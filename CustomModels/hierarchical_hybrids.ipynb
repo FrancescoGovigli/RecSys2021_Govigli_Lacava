{
  "metadata": {
    "kernelspec": {
      "language": "python",
      "display_name": "Python 3",
      "name": "python3"
    },
    "language_info": {
      "pygments_lexer": "ipython3",
      "nbconvert_exporter": "python",
      "version": "3.6.4",
      "file_extension": ".py",
      "codemirror_mode": {
        "name": "ipython",
        "version": 3
      },
      "name": "python",
      "mimetype": "text/x-python"
    },
    "colab": {
      "name": "hierarchical_hybrids.ipynb",
      "provenance": []
    }
  },
  "nbformat_minor": 0,
  "nbformat": 4,
  "cells": [
    {
      "cell_type": "code",
      "source": [
        "# Uploading all professor modules\n",
        "import sys\n",
        "sys.path.append('../GithubModules')\n",
        "print(sys.version)"
      ],
      "metadata": {
        "_cell_guid": "b1076dfc-b9ad-4769-8c92-a6c4dae69d19",
        "_uuid": "8f2839f25d086af736a60e9eeb907d3b93b6e0e5",
        "papermill": {
          "duration": 0.026817,
          "end_time": "2021-12-10T07:42:26.829965",
          "exception": false,
          "start_time": "2021-12-10T07:42:26.803148",
          "status": "completed"
        },
        "tags": [],
        "execution": {
          "iopub.status.busy": "2022-01-06T08:59:35.71785Z",
          "iopub.execute_input": "2022-01-06T08:59:35.718748Z",
          "iopub.status.idle": "2022-01-06T08:59:35.743856Z",
          "shell.execute_reply.started": "2022-01-06T08:59:35.718645Z",
          "shell.execute_reply": "2022-01-06T08:59:35.743234Z"
        },
        "trusted": true,
        "id": "_KQDHJmND-5I"
      },
      "execution_count": null,
      "outputs": []
    },
    {
      "cell_type": "code",
      "source": [
        "cp -r ../input/github-modules-mod/GITHUB_MODULES/* ./"
      ],
      "metadata": {
        "id": "31-L_6iwD-5T"
      },
      "execution_count": null,
      "outputs": []
    },
    {
      "cell_type": "code",
      "source": [
        "import pandas as pd \n",
        "URM_df=pd.read_csv('../input/RecsysDataset/data_train.csv')\n",
        "ICM_genre_df=pd.read_csv('../input/RecsysDataset/data_ICM_genre.csv')\n",
        "ICM_subgenre_df=pd.read_csv('../input/RecsysDataset/data_ICM_subgenre.csv')\n",
        "ICM_channel_df=pd.read_csv('../input/RecsysDataset/data_ICM_channel.csv')\n",
        "ICM_event_df=pd.read_csv('../input/RecsysDataset/data_ICM_event.csv')\n",
        "# Extract a list of users who will be present in the final submission\n",
        "target_users = pd.read_csv('../input/RecsysDataset/data_target_users_test.csv')"
      ],
      "metadata": {
        "papermill": {
          "duration": 2.270669,
          "end_time": "2021-12-10T07:42:31.786205",
          "exception": false,
          "start_time": "2021-12-10T07:42:29.515536",
          "status": "completed"
        },
        "tags": [],
        "execution": {
          "iopub.status.busy": "2022-01-06T09:00:31.778866Z",
          "iopub.execute_input": "2022-01-06T09:00:31.779136Z",
          "iopub.status.idle": "2022-01-06T09:00:33.691358Z",
          "shell.execute_reply.started": "2022-01-06T09:00:31.779108Z",
          "shell.execute_reply": "2022-01-06T09:00:33.69065Z"
        },
        "trusted": true,
        "id": "MfqTnuozD-5X"
      },
      "execution_count": null,
      "outputs": []
    },
    {
      "cell_type": "code",
      "source": [
        "# Just for usability/readability + convert values from float to int \n",
        "\n",
        "URM_df.columns = ['userID','itemID','interaction']\n",
        "ICM_channel_df.columns = ['itemID','featureID','value']\n",
        "ICM_event_df.columns = ['itemID','featureID','value']\n",
        "ICM_genre_df.columns = ['itemID','featureID','value']\n",
        "ICM_subgenre_df.columns = ['itemID','featureID','value']\n",
        "URM_df['interaction'] = URM_df['interaction'].astype(int)\n",
        "ICM_channel_df['value'] = ICM_channel_df['value'].astype(int)\n",
        "ICM_event_df['value'] = ICM_event_df['value'].astype(int)\n",
        "ICM_genre_df['value'] = ICM_genre_df['value'].astype(int)\n",
        "ICM_subgenre_df['value'] = ICM_subgenre_df['value'].astype(int)"
      ],
      "metadata": {
        "papermill": {
          "duration": 0.068123,
          "end_time": "2021-12-10T07:42:31.863008",
          "exception": false,
          "start_time": "2021-12-10T07:42:31.794885",
          "status": "completed"
        },
        "tags": [],
        "execution": {
          "iopub.status.busy": "2022-01-06T09:00:36.591407Z",
          "iopub.execute_input": "2022-01-06T09:00:36.592019Z",
          "iopub.status.idle": "2022-01-06T09:00:36.644147Z",
          "shell.execute_reply.started": "2022-01-06T09:00:36.591972Z",
          "shell.execute_reply": "2022-01-06T09:00:36.643473Z"
        },
        "trusted": true,
        "id": "CEkP_883D-5a"
      },
      "execution_count": null,
      "outputs": []
    },
    {
      "cell_type": "code",
      "source": [
        "#Let's use properties of the sparse matrices\n",
        "import scipy.sparse as sps\n",
        "import numpy as np\n",
        "from numpy import linalg as LA\n",
        "URM_sparse = sps.coo_matrix((URM_df['interaction'].values,(URM_df['userID'].values,URM_df['itemID'].values)))\n",
        "URM_csr = URM_sparse.tocsr()"
      ],
      "metadata": {
        "papermill": {
          "duration": 0.215713,
          "end_time": "2021-12-10T07:42:32.087399",
          "exception": false,
          "start_time": "2021-12-10T07:42:31.871686",
          "status": "completed"
        },
        "tags": [],
        "execution": {
          "iopub.status.busy": "2022-01-06T09:00:39.670203Z",
          "iopub.execute_input": "2022-01-06T09:00:39.670731Z",
          "iopub.status.idle": "2022-01-06T09:00:39.859698Z",
          "shell.execute_reply.started": "2022-01-06T09:00:39.670691Z",
          "shell.execute_reply": "2022-01-06T09:00:39.858917Z"
        },
        "trusted": true,
        "id": "7CwuZh95D-5f"
      },
      "execution_count": null,
      "outputs": []
    },
    {
      "cell_type": "code",
      "source": [
        "from Data_manager.split_functions.split_train_validation_random_holdout import split_train_in_two_percentage_global_sample\n",
        "from Data_manager.split_functions.split_train_validation_random_holdout import split_train_in_two_percentage_user_wise\n",
        "from Evaluation.Evaluator import EvaluatorHoldout\n",
        "\n",
        "URM_train, URM_validation = split_train_in_two_percentage_global_sample(URM_csr , train_percentage = 0.80)\n",
        "#URM_train, URM_validation = split_train_in_two_percentage_user_wise(URM_sparse.tocsr(), train_percentage = 0.8, verbose = False)\n",
        "evaluator_validation = EvaluatorHoldout(URM_validation, cutoff_list=[10])"
      ],
      "metadata": {
        "papermill": {
          "duration": 8.66837,
          "end_time": "2021-12-10T07:42:40.763793",
          "exception": false,
          "start_time": "2021-12-10T07:42:32.095423",
          "status": "completed"
        },
        "tags": [],
        "execution": {
          "iopub.status.busy": "2022-01-06T09:00:42.806901Z",
          "iopub.execute_input": "2022-01-06T09:00:42.807179Z",
          "iopub.status.idle": "2022-01-06T09:00:43.640596Z",
          "shell.execute_reply.started": "2022-01-06T09:00:42.807151Z",
          "shell.execute_reply": "2022-01-06T09:00:43.639803Z"
        },
        "trusted": true,
        "id": "zITIJwuWD-5h"
      },
      "execution_count": null,
      "outputs": []
    },
    {
      "cell_type": "code",
      "source": [
        "from Recommenders.SLIM.SLIMElasticNetRecommender_mod import SLIMElasticNetRecommender\n",
        "import random \n",
        "from Recommenders.MatrixFactorization.IALSRecommender import IALSRecommender\n",
        "from Recommenders.MatrixFactorization.PureSVDRecommender import PureSVDRecommender\n",
        "from Recommenders.KNN.ItemKNNCFRecommender import ItemKNNCFRecommender\n",
        "from Recommenders.SLIM.Cython.SLIM_BPR_Cython import SLIM_BPR_Cython\n",
        "from Recommenders.BaseRecommender import BaseRecommender\n",
        "from Recommenders.GraphBased.RP3betaRecommender import RP3betaRecommender\n",
        "from Recommenders.GraphBased.P3alphaRecommender import P3alphaRecommender"
      ],
      "metadata": {
        "execution": {
          "iopub.status.busy": "2022-01-06T09:00:46.253218Z",
          "iopub.execute_input": "2022-01-06T09:00:46.254014Z",
          "iopub.status.idle": "2022-01-06T09:00:47.479063Z",
          "shell.execute_reply.started": "2022-01-06T09:00:46.253969Z",
          "shell.execute_reply": "2022-01-06T09:00:47.478203Z"
        },
        "trusted": true,
        "id": "kEvKZfCXD-5h"
      },
      "execution_count": null,
      "outputs": []
    },
    {
      "cell_type": "code",
      "source": [
        "import pyximport\n",
        "pyximport.install()"
      ],
      "metadata": {
        "execution": {
          "iopub.status.busy": "2022-01-06T09:00:50.549435Z",
          "iopub.execute_input": "2022-01-06T09:00:50.549715Z",
          "iopub.status.idle": "2022-01-06T09:00:50.561639Z",
          "shell.execute_reply.started": "2022-01-06T09:00:50.549682Z",
          "shell.execute_reply": "2022-01-06T09:00:50.560563Z"
        },
        "trusted": true,
        "id": "UutaE0JwD-5j"
      },
      "execution_count": null,
      "outputs": []
    },
    {
      "cell_type": "code",
      "source": [
        "#prepare the environment to run Cython code\n",
        "!python run_compile_all_cython.py"
      ],
      "metadata": {
        "execution": {
          "iopub.status.busy": "2022-01-06T09:00:56.13141Z",
          "iopub.execute_input": "2022-01-06T09:00:56.131954Z",
          "iopub.status.idle": "2022-01-06T09:00:57.011196Z",
          "shell.execute_reply.started": "2022-01-06T09:00:56.131913Z",
          "shell.execute_reply": "2022-01-06T09:00:57.010169Z"
        },
        "trusted": true,
        "id": "hFheaoMJD-5k"
      },
      "execution_count": null,
      "outputs": []
    },
    {
      "cell_type": "code",
      "source": [
        "slim_BPR = SLIM_BPR_Cython(URM_train)\n",
        "slim_BPR.fit(topK = 200,random_seed=1234,lambda_i=0.0037050152320468486,lambda_j=5e-06,epochs=338,learning_rate=0.014618519344494077)"
      ],
      "metadata": {
        "trusted": true,
        "id": "EqShq6LQD-5l"
      },
      "execution_count": null,
      "outputs": []
    },
    {
      "cell_type": "code",
      "source": [
        "SLIM = SLIMElasticNetRecommender(URM_train)\n",
        "SLIM.fit(l1_ratio = 0.0006874637222349307, alpha = 0.05475509828499467, positive_only = True, topK = 2822)"
      ],
      "metadata": {
        "trusted": true,
        "id": "SzzjnPV9D-5m"
      },
      "execution_count": null,
      "outputs": []
    },
    {
      "cell_type": "code",
      "source": [
        "iALS = IALSRecommender(URM_train)\n",
        "iALS.fit(epochs = 157, num_factors = 54, alpha = 0.6754923563037951, reg = 0.0020435763517982174)"
      ],
      "metadata": {
        "trusted": true,
        "id": "z2-97UwoD-5n"
      },
      "execution_count": null,
      "outputs": []
    },
    {
      "cell_type": "code",
      "source": [
        "itemKNN = ItemKNNCFRecommender(URM_train)\n",
        "itemKNN.fit(topK = 169, shrink = 10)"
      ],
      "metadata": {
        "trusted": true,
        "id": "o1vM-3A1D-5o"
      },
      "execution_count": null,
      "outputs": []
    },
    {
      "cell_type": "code",
      "source": [
        "RP3beta = RP3betaRecommender(URM_train)\n",
        "RP3beta.fit(topK=200, alpha = 1.2540157090612445, beta = 0.4017561235699327)"
      ],
      "metadata": {
        "trusted": true,
        "id": "YLqBc0Z1D-5p"
      },
      "execution_count": null,
      "outputs": []
    },
    {
      "cell_type": "code",
      "source": [
        "SVD = PureSVDRecommender(URM_train)\n",
        "SVD.fit(num_factors=28,random_seed=1234)"
      ],
      "metadata": {
        "trusted": true,
        "id": "2DBUkwx_D-5p"
      },
      "execution_count": null,
      "outputs": []
    },
    {
      "cell_type": "code",
      "source": [
        "result_df, _ = evaluator_validation.evaluateRecommender(RP3beta)\n",
        "print(\"Result of RP3beta: {} \".format(result_df.loc[10][\"MAP\"]))"
      ],
      "metadata": {
        "trusted": true,
        "id": "adE-BM86D-5p"
      },
      "execution_count": null,
      "outputs": []
    },
    {
      "cell_type": "code",
      "source": [
        "result_df, _ = evaluator_validation.evaluateRecommender(SVD)\n",
        "print(\"Result of SVD: {} \".format(result_df.loc[10][\"MAP\"]))"
      ],
      "metadata": {
        "id": "Goz3NDZ0D-5q"
      },
      "execution_count": null,
      "outputs": []
    },
    {
      "cell_type": "code",
      "source": [
        "result_df, _ = evaluator_validation.evaluateRecommender(iALS)\n",
        "print(\"Result of ALS: {} \".format(result_df.loc[10][\"MAP\"]))"
      ],
      "metadata": {
        "id": "A1_kuc83D-5r"
      },
      "execution_count": null,
      "outputs": []
    },
    {
      "cell_type": "code",
      "source": [
        "result_df, _ = evaluator_validation.evaluateRecommender(SLIM)\n",
        "print(\"Result of SLIM: {} \".format(result_df.loc[10][\"MAP\"]))"
      ],
      "metadata": {
        "id": "1t_8ZrciD-5r"
      },
      "execution_count": null,
      "outputs": []
    },
    {
      "cell_type": "code",
      "source": [
        "result_df, _ = evaluator_validation.evaluateRecommender(slim_BPR)\n",
        "print(\"Result of BPR: {} \".format(result_df.loc[10][\"MAP\"]))"
      ],
      "metadata": {
        "id": "aGP0zjEjD-5s"
      },
      "execution_count": null,
      "outputs": []
    },
    {
      "cell_type": "code",
      "source": [
        "result_df, _ = evaluator_validation.evaluateRecommender(itemKNN)\n",
        "print(\"Result of KNN: {} \".format(result_df.loc[10][\"MAP\"]))"
      ],
      "metadata": {
        "id": "9qkes46HD-5t"
      },
      "execution_count": null,
      "outputs": []
    },
    {
      "cell_type": "code",
      "source": [
        "class DifferentLossScoresHybridRecommender(BaseRecommender):\n",
        "    \"\"\" ScoresHybridRecommender\n",
        "    Hybrid of two prediction scores R = R1/norm*alpha + R2/norm*(1-alpha) where R1 and R2 come from\n",
        "    algorithms trained on different loss functions.\n",
        "\n",
        "    \"\"\"\n",
        "\n",
        "    RECOMMENDER_NAME = \"DifferentLossScoresHybridRecommender\"\n",
        "\n",
        "\n",
        "    def __init__(self, URM_train, recommender_1, recommender_2):\n",
        "        super(DifferentLossScoresHybridRecommender, self).__init__(URM_train)\n",
        "\n",
        "        self.URM_train = sps.csr_matrix(URM_train)\n",
        "        self.recommender_1 = recommender_1\n",
        "        self.recommender_2 = recommender_2\n",
        "        \n",
        "        \n",
        "        \n",
        "    def fit(self, norm, alpha = 0.5):\n",
        "\n",
        "        self.alpha = alpha\n",
        "        self.norm = norm\n",
        "\n",
        "\n",
        "    def _compute_item_score(self, user_id_array, items_to_compute):\n",
        "        \n",
        "        if(self.recommender_1.RECOMMENDER_NAME == \"DifferentLossScoresHybridRecommender\"):\n",
        "            item_weights_1 = self.recommender_1._compute_item_score(user_id_array,items_to_compute) \n",
        "        else:    \n",
        "            item_weights_1 = self.recommender_1._compute_item_score(user_id_array)\n",
        "    \n",
        "        if(self.recommender_2.RECOMMENDER_NAME == \"DifferentLossScoresHybridRecommender\"):\n",
        "            item_weights_2 = self.recommender_2._compute_item_score(user_id_array,items_to_compute) \n",
        "        else:    \n",
        "            item_weights_2 = self.recommender_2._compute_item_score(user_id_array)\n",
        "\n",
        "        norm_item_weights_1 = LA.norm(item_weights_1, self.norm)\n",
        "        norm_item_weights_2 = LA.norm(item_weights_2, self.norm)\n",
        "        \n",
        "        \n",
        "        if norm_item_weights_1 == 0:\n",
        "            raise ValueError(\"Norm {} of item weights for recommender 1 is zero. Avoiding division by zero\".format(self.norm))\n",
        "        \n",
        "        if norm_item_weights_2 == 0:\n",
        "            raise ValueError(\"Norm {} of item weights for recommender 2 is zero. Avoiding division by zero\".format(self.norm))\n",
        "        \n",
        "        item_weights = item_weights_1 / norm_item_weights_1 * self.alpha + item_weights_2 / norm_item_weights_2 * (1-self.alpha)\n",
        "\n",
        "        return item_weights"
      ],
      "metadata": {
        "trusted": true,
        "id": "YImexOIBD-5t"
      },
      "execution_count": null,
      "outputs": []
    },
    {
      "cell_type": "code",
      "source": [
        "from numpy import linalg as LA\n",
        "\n",
        "best_result_1 = 0\n",
        "best_dict_1 = {}\n",
        "counter = 0\n",
        "for norm in [1, 2, np.inf, -np.inf]:\n",
        "    for alpha in list(np.arange(0.05,0.85,0.05)): # da 0.30 a 0.65\n",
        "            print(\"==================================================================================================================\")\n",
        "            print('iteration {}, with norm = {}, alpha = {}' .format(counter,norm, alpha))\n",
        "            difflosshybridrecommender = DifferentLossScoresHybridRecommender(URM_train,RP3beta,itemKNN)\n",
        "            difflosshybridrecommender.fit(norm = norm, alpha = alpha)\n",
        "            result_df, _ = evaluator_validation.evaluateRecommender(difflosshybridrecommender)\n",
        "            print(\"Result: {} \".format(result_df.loc[10][\"MAP\"])) \n",
        "            if(result_df.loc[10][\"MAP\"]>best_result_1):\n",
        "                best_result_1 = result_df.loc[10][\"MAP\"]\n",
        "                best_dict_1['alpha'] = alpha\n",
        "                best_dict_1['norm'] = norm\n",
        "            counter = counter + 1    "
      ],
      "metadata": {
        "trusted": true,
        "id": "ljGfL3DfD-5u"
      },
      "execution_count": null,
      "outputs": []
    },
    {
      "cell_type": "code",
      "source": [
        "hybrid1 = DifferentLossScoresHybridRecommender(URM_train,RP3beta,itemKNN)\n",
        "hybrid1.fit(norm = best_dict_1['norm'], alpha = best_dict_1['alpha'])"
      ],
      "metadata": {
        "trusted": true,
        "id": "kl7L06E0D-5u"
      },
      "execution_count": null,
      "outputs": []
    },
    {
      "cell_type": "code",
      "source": [
        "best_result_2 = 0\n",
        "best_dict_2 = {}\n",
        "counter = 0\n",
        "for norm in [1, 2, np.inf, -np.inf]:\n",
        "    for alpha in list(np.arange(0.05,0.85,0.05)): # da 0.30 a 0.65\n",
        "            print(\"==================================================================================================================\")\n",
        "            print('iteration {}, with norm = {}, alpha = {}' .format(counter,norm, alpha))\n",
        "            difflosshybridrecommender = DifferentLossScoresHybridRecommender(URM_train,hybrid1,iALS)\n",
        "            difflosshybridrecommender.fit(norm = norm, alpha = alpha)\n",
        "            result_df, _ = evaluator_validation.evaluateRecommender(difflosshybridrecommender)\n",
        "            print(\"Result: {} \".format(result_df.loc[10][\"MAP\"])) \n",
        "            if(result_df.loc[10][\"MAP\"]>best_result_2):\n",
        "                best_result_2 = result_df.loc[10][\"MAP\"]\n",
        "                best_dict_2['alpha'] = alpha\n",
        "                best_dict_2['norm'] = norm\n",
        "            counter = counter + 1    "
      ],
      "metadata": {
        "trusted": true,
        "id": "3InOWmgKD-5v"
      },
      "execution_count": null,
      "outputs": []
    },
    {
      "cell_type": "code",
      "source": [
        "hybrid2 = DifferentLossScoresHybridRecommender(URM_train, hybrid1, iALS)\n",
        "hybrid2.fit(norm = best_dict_2['norm'], alpha = best_dict_2['alpha'])"
      ],
      "metadata": {
        "trusted": true,
        "id": "U_XPEqJyD-5v"
      },
      "execution_count": null,
      "outputs": []
    },
    {
      "cell_type": "code",
      "source": [
        "from numpy import linalg as LA\n",
        "\n",
        "best_result_3 = 0\n",
        "best_dict_3 = {}\n",
        "counter = 0\n",
        "for norm in [1, 2, np.inf, -np.inf]:\n",
        "    for alpha in list(np.arange(0.05,0.85,0.05)): #0.3 a 0.85\n",
        "            print(\"==================================================================================================================\")\n",
        "            print('iteration {} with norm = {}, alpha = {}' .format(counter,norm, alpha))\n",
        "            diffloss = DifferentLossScoresHybridRecommender(URM_train,hybrid2,slim_BPR)\n",
        "            diffloss.fit(norm = norm, alpha = alpha)\n",
        "            result_df, _ = evaluator_validation.evaluateRecommender(diffloss)\n",
        "            print(\"Result: {} \".format(result_df.loc[10][\"MAP\"])) \n",
        "            if(result_df.loc[10][\"MAP\"]>best_result_3):\n",
        "                best_result_3 = result_df.loc[10][\"MAP\"]\n",
        "                best_dict_3['alpha'] = alpha\n",
        "                best_dict_3['norm'] = norm\n",
        "            counter = counter + 1       "
      ],
      "metadata": {
        "trusted": true,
        "id": "mXX5tgl8D-5w"
      },
      "execution_count": null,
      "outputs": []
    },
    {
      "cell_type": "code",
      "source": [
        "hybrid3 = DifferentLossScoresHybridRecommender(URM_train,hybrid2,slim_BPR)\n",
        "hybrid3.fit(norm = best_dict_3['norm'], alpha = best_dict_3['alpha'])"
      ],
      "metadata": {
        "trusted": true,
        "id": "LOGXl5DQD-5w"
      },
      "execution_count": null,
      "outputs": []
    },
    {
      "cell_type": "code",
      "source": [
        "best_result_4 = 0\n",
        "best_dict_4 = {}\n",
        "counter = 0\n",
        "for norm in [1, 2, np.inf, -np.inf]:\n",
        "    for alpha in list(np.arange(0.05,0.85,0.05)): #0.3 a 0.85\n",
        "            print(\"==================================================================================================================\")\n",
        "            print('iteration {} with norm = {}, alpha = {}' .format(counter,norm, alpha))\n",
        "            diffloss = DifferentLossScoresHybridRecommender(URM_train,hybrid3,SLIM)\n",
        "            diffloss.fit(norm = norm, alpha = alpha)\n",
        "            result_df, _ = evaluator_validation.evaluateRecommender(diffloss)\n",
        "            print(\"Result: {} \".format(result_df.loc[10][\"MAP\"])) \n",
        "            if(result_df.loc[10][\"MAP\"]>best_result_4):\n",
        "                best_result_4 = result_df.loc[10][\"MAP\"]\n",
        "                best_dict_4['alpha'] = alpha\n",
        "                best_dict_4['norm'] = norm\n",
        "            counter = counter + 1       "
      ],
      "metadata": {
        "trusted": true,
        "id": "jDCvfLsZD-5w"
      },
      "execution_count": null,
      "outputs": []
    },
    {
      "cell_type": "code",
      "source": [
        "hybrid4 = DifferentLossScoresHybridRecommender(URM_train, hybrid3, SLIM)\n",
        "hybrid4.fit(norm = best_dict_4['norm'], alpha = best_dict_4['alpha'])"
      ],
      "metadata": {
        "trusted": true,
        "id": "CGgqVMbZD-5x"
      },
      "execution_count": null,
      "outputs": []
    },
    {
      "cell_type": "code",
      "source": [
        "best_result_1, best_result_2, best_result_3, best_result_4"
      ],
      "metadata": {
        "trusted": true,
        "id": "z9zlej0jD-5x"
      },
      "execution_count": null,
      "outputs": []
    },
    {
      "cell_type": "code",
      "source": [
        "best_dict_1, best_dict_2, best_dict_3, best_dict_4"
      ],
      "metadata": {
        "trusted": true,
        "id": "vhNJ8zL5D-5y"
      },
      "execution_count": null,
      "outputs": []
    }
  ]
}