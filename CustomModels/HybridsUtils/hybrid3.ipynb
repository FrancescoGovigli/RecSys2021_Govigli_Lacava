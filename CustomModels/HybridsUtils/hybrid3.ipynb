{
  "metadata": {
    "kernelspec": {
      "language": "python",
      "display_name": "Python 3",
      "name": "python3"
    },
    "language_info": {
      "pygments_lexer": "ipython3",
      "nbconvert_exporter": "python",
      "version": "3.6.4",
      "file_extension": ".py",
      "codemirror_mode": {
        "name": "ipython",
        "version": 3
      },
      "name": "python",
      "mimetype": "text/x-python"
    },
    "colab": {
      "name": "hybrid3.ipynb",
      "provenance": []
    }
  },
  "nbformat_minor": 0,
  "nbformat": 4,
  "cells": [
    {
      "cell_type": "code",
      "source": [
        "# Uploading all professor modules\n",
        "import sys\n",
        "sys.path.append('../GithubModules')\n",
        "print(sys.version)"
      ],
      "metadata": {
        "_cell_guid": "b1076dfc-b9ad-4769-8c92-a6c4dae69d19",
        "_uuid": "8f2839f25d086af736a60e9eeb907d3b93b6e0e5",
        "papermill": {
          "duration": 0.026817,
          "end_time": "2021-12-10T07:42:26.829965",
          "exception": false,
          "start_time": "2021-12-10T07:42:26.803148",
          "status": "completed"
        },
        "tags": [],
        "execution": {
          "iopub.status.busy": "2021-12-20T11:37:20.709541Z",
          "iopub.execute_input": "2021-12-20T11:37:20.709872Z",
          "iopub.status.idle": "2021-12-20T11:37:20.715353Z",
          "shell.execute_reply.started": "2021-12-20T11:37:20.709831Z",
          "shell.execute_reply": "2021-12-20T11:37:20.714569Z"
        },
        "trusted": true,
        "id": "QemFDus5BDT9"
      },
      "execution_count": null,
      "outputs": []
    },
    {
      "cell_type": "code",
      "source": [
        "import pandas as pd \n",
        "URM_df=pd.read_csv('../input/RecsysDataset/data_train.csv')\n",
        "ICM_genre_df=pd.read_csv('../input/RecsysDataset/data_ICM_genre.csv')\n",
        "ICM_subgenre_df=pd.read_csv('../input/RecsysDataset/data_ICM_subgenre.csv')\n",
        "ICM_channel_df=pd.read_csv('../input/RecsysDataset/data_ICM_channel.csv')\n",
        "ICM_event_df=pd.read_csv('../input/RecsysDataset/data_ICM_event.csv')\n",
        "# Extract a list of users who will be present in the final submission\n",
        "target_users = pd.read_csv('../input/RecsysDataset/data_target_users_test.csv')"
      ],
      "metadata": {
        "papermill": {
          "duration": 2.270669,
          "end_time": "2021-12-10T07:42:31.786205",
          "exception": false,
          "start_time": "2021-12-10T07:42:29.515536",
          "status": "completed"
        },
        "tags": [],
        "execution": {
          "iopub.status.busy": "2021-12-20T11:37:20.717326Z",
          "iopub.execute_input": "2021-12-20T11:37:20.718189Z",
          "iopub.status.idle": "2021-12-20T11:37:22.328212Z",
          "shell.execute_reply.started": "2021-12-20T11:37:20.718152Z",
          "shell.execute_reply": "2021-12-20T11:37:22.327472Z"
        },
        "trusted": true,
        "id": "1NIg1h42BDUH"
      },
      "execution_count": null,
      "outputs": []
    },
    {
      "cell_type": "code",
      "source": [
        "# Just for usability/readability + convert values from float to int \n",
        "\n",
        "URM_df.columns = ['userID','itemID','interaction']\n",
        "ICM_channel_df.columns = ['itemID','featureID','value']\n",
        "ICM_event_df.columns = ['itemID','featureID','value']\n",
        "ICM_genre_df.columns = ['itemID','featureID','value']\n",
        "ICM_subgenre_df.columns = ['itemID','featureID','value']\n",
        "URM_df['interaction'] = URM_df['interaction'].astype(int)\n",
        "ICM_channel_df['value'] = ICM_channel_df['value'].astype(int)\n",
        "ICM_event_df['value'] = ICM_event_df['value'].astype(int)\n",
        "ICM_genre_df['value'] = ICM_genre_df['value'].astype(int)\n",
        "ICM_subgenre_df['value'] = ICM_subgenre_df['value'].astype(int)"
      ],
      "metadata": {
        "papermill": {
          "duration": 0.068123,
          "end_time": "2021-12-10T07:42:31.863008",
          "exception": false,
          "start_time": "2021-12-10T07:42:31.794885",
          "status": "completed"
        },
        "tags": [],
        "execution": {
          "iopub.status.busy": "2021-12-20T11:37:22.329548Z",
          "iopub.execute_input": "2021-12-20T11:37:22.329908Z",
          "iopub.status.idle": "2021-12-20T11:37:22.377506Z",
          "shell.execute_reply.started": "2021-12-20T11:37:22.329867Z",
          "shell.execute_reply": "2021-12-20T11:37:22.376694Z"
        },
        "trusted": true,
        "id": "yODlbuofBDUM"
      },
      "execution_count": null,
      "outputs": []
    },
    {
      "cell_type": "code",
      "source": [
        "#Let's use properties of the sparse matrices\n",
        "import scipy.sparse as sps\n",
        "import numpy as np\n",
        "from numpy import linalg as LA\n",
        "\n",
        "URM_sparse = sps.coo_matrix((URM_df['interaction'].values,(URM_df['userID'].values,URM_df['itemID'].values)))\n",
        "URM_csr = URM_sparse.tocsr()"
      ],
      "metadata": {
        "papermill": {
          "duration": 0.215713,
          "end_time": "2021-12-10T07:42:32.087399",
          "exception": false,
          "start_time": "2021-12-10T07:42:31.871686",
          "status": "completed"
        },
        "tags": [],
        "execution": {
          "iopub.status.busy": "2021-12-20T11:37:22.37963Z",
          "iopub.execute_input": "2021-12-20T11:37:22.379979Z",
          "iopub.status.idle": "2021-12-20T11:37:22.465378Z",
          "shell.execute_reply.started": "2021-12-20T11:37:22.379938Z",
          "shell.execute_reply": "2021-12-20T11:37:22.464631Z"
        },
        "trusted": true,
        "id": "V0ihL9KHBDUQ"
      },
      "execution_count": null,
      "outputs": []
    },
    {
      "cell_type": "code",
      "source": [
        "from Data_manager.split_functions.split_train_validation_random_holdout import split_train_in_two_percentage_global_sample\n",
        "from Data_manager.split_functions.split_train_validation_random_holdout import split_train_in_two_percentage_user_wise\n",
        "from Evaluation.Evaluator import EvaluatorHoldout\n",
        "\n",
        "URM_train, URM_validation = split_train_in_two_percentage_global_sample(URM_csr , train_percentage = 0.80)\n",
        "#URM_train, URM_validation = split_train_in_two_percentage_user_wise(URM_sparse.tocsr(), train_percentage = 0.8, verbose = False)\n",
        "evaluator_validation = EvaluatorHoldout(URM_validation, cutoff_list=[10])"
      ],
      "metadata": {
        "papermill": {
          "duration": 8.66837,
          "end_time": "2021-12-10T07:42:40.763793",
          "exception": false,
          "start_time": "2021-12-10T07:42:32.095423",
          "status": "completed"
        },
        "tags": [],
        "execution": {
          "iopub.status.busy": "2021-12-20T11:37:22.46656Z",
          "iopub.execute_input": "2021-12-20T11:37:22.467287Z",
          "iopub.status.idle": "2021-12-20T11:37:36.101162Z",
          "shell.execute_reply.started": "2021-12-20T11:37:22.467241Z",
          "shell.execute_reply": "2021-12-20T11:37:36.100409Z"
        },
        "trusted": true,
        "id": "sXiqGpk-BDUT"
      },
      "execution_count": null,
      "outputs": []
    },
    {
      "cell_type": "code",
      "source": [
        "######################################################################\n",
        "# HERE IMPORT, DEFINE AND FIT THE THREE RECOMMENDERS YOU WANT TO HYBRID\n",
        "######################################################################"
      ],
      "metadata": {
        "execution": {
          "iopub.status.busy": "2021-12-20T11:37:36.102399Z",
          "iopub.execute_input": "2021-12-20T11:37:36.102694Z",
          "iopub.status.idle": "2021-12-20T11:37:36.108657Z",
          "shell.execute_reply.started": "2021-12-20T11:37:36.102657Z",
          "shell.execute_reply": "2021-12-20T11:37:36.107685Z"
        },
        "trusted": true,
        "id": "zF5BptlqBDUU"
      },
      "execution_count": null,
      "outputs": []
    },
    {
      "cell_type": "code",
      "source": [
        "from Recommenders.BaseRecommender import BaseRecommender\n",
        "\n",
        "class DifferentLossScoresHybridRecommender(BaseRecommender):\n",
        "    \"\"\" ScoresHybridRecommender\n",
        "    Hybrid of two prediction scores R = R1/norm*alpha + R2/norm*(1-alpha) where R1 and R2 come from\n",
        "    algorithms trained on different loss functions.\n",
        "\n",
        "    \"\"\"\n",
        "\n",
        "    RECOMMENDER_NAME = \"DifferentLossScoresHybridRecommender\"\n",
        "\n",
        "\n",
        "    def __init__(self, URM_train, recommender_1, recommender_2, recommender_3):\n",
        "        super(DifferentLossScoresHybridRecommender, self).__init__(URM_train)\n",
        "\n",
        "        self.URM_train = sps.csr_matrix(URM_train)\n",
        "        self.recommender_1 = recommender_1\n",
        "        self.recommender_2 = recommender_2\n",
        "        self.recommender_3 = recommender_3\n",
        "        \n",
        "        \n",
        "        \n",
        "    def fit(self, norm, alpha = 0.25, beta = 0.25):\n",
        "\n",
        "        self.alpha = alpha\n",
        "        self.beta = beta\n",
        "        self.norm = norm\n",
        "\n",
        "\n",
        "    def _compute_item_score(self, user_id_array, items_to_compute):\n",
        "        \n",
        "        item_weights_1 = self.recommender_1._compute_item_score(user_id_array)\n",
        "        item_weights_2 = self.recommender_2._compute_item_score(user_id_array)\n",
        "        item_weights_3 = self.recommender_3._compute_item_score(user_id_array)\n",
        "\n",
        "        norm_item_weights_1 = LA.norm(item_weights_1, self.norm)\n",
        "        norm_item_weights_2 = LA.norm(item_weights_2, self.norm)\n",
        "        norm_item_weights_3 = LA.norm(item_weights_3, self.norm)\n",
        "        \n",
        "        \n",
        "        if norm_item_weights_1 == 0:\n",
        "            raise ValueError(\"Norm {} of item weights for recommender 1 is zero. Avoiding division by zero\".format(self.norm))\n",
        "        \n",
        "        if norm_item_weights_2 == 0:\n",
        "            raise ValueError(\"Norm {} of item weights for recommender 2 is zero. Avoiding division by zero\".format(self.norm))\n",
        "        \n",
        "        if norm_item_weights_3 == 0:\n",
        "            raise ValueError(\"Norm {} of item weights for recommender 3 is zero. Avoiding division by zero\".format(self.norm))\n",
        "        \n",
        "        item_weights = item_weights_1 / norm_item_weights_1 * self.alpha + item_weights_2 / norm_item_weights_2 * self.beta + item_weights_3 / norm_item_weights_3 * (1-self.alpha-self.beta)\n",
        "\n",
        "        return item_weights"
      ],
      "metadata": {
        "execution": {
          "iopub.status.busy": "2021-12-20T11:37:48.239461Z",
          "iopub.status.idle": "2021-12-20T11:37:48.239936Z",
          "shell.execute_reply.started": "2021-12-20T11:37:48.239677Z",
          "shell.execute_reply": "2021-12-20T11:37:48.239704Z"
        },
        "trusted": true,
        "id": "bw_WZLgPBDUX"
      },
      "execution_count": null,
      "outputs": []
    },
    {
      "cell_type": "code",
      "source": [
        "difflosshybridrecommender = DifferentLossScoresHybridRecommender(URM_train, SLIM, iALS, pureSVD)\n",
        "\n",
        "# CHOOSE PROPER ALPHA AND BETA TO ASSIGN AS WEIGHT TO THE RECOMMENDERS\n",
        "for alpha in list(np.arange(0.75, 0.9, 0.01)):\n",
        "    for beta in list(np.arange(0.01, 1-alpha, 0.01)):\n",
        "        difflosshybridrecommender.fit(norm = -np.inf, alpha = alpha, beta = beta)\n",
        "\n",
        "        result_df, _ = evaluator_validation.evaluateRecommender(difflosshybridrecommender)\n",
        "        print(\"Norm = -inf, Alpha = {}, Beta = {}, Result: {} \".format(alpha, beta, result_df.loc[10][\"MAP\"])) \n",
        "\n",
        "'''for norm in [1, 2, np.inf, -np.inf]:\n",
        "    for alpha in list(np.arange(0.5, 1, 0.05)):\n",
        "        for beta in list(np.arange(0.05, 1-alpha, 0.05)):\n",
        "            difflosshybridrecommender.fit(norm, alpha, beta)\n",
        "            \n",
        "            result_df, _ = evaluator_validation.evaluateRecommender(difflosshybridrecommender)\n",
        "            print(\"Norm = {}, Alpha = {}, Beta = {}, Result: {} \".format(norm, alpha, beta, result_df.loc[10][\"MAP\"])) \n",
        "'''\n"
      ],
      "metadata": {
        "execution": {
          "iopub.status.busy": "2021-12-20T11:37:48.241281Z",
          "iopub.status.idle": "2021-12-20T11:37:48.242218Z",
          "shell.execute_reply.started": "2021-12-20T11:37:48.241928Z",
          "shell.execute_reply": "2021-12-20T11:37:48.241957Z"
        },
        "trusted": true,
        "id": "NqvH0_csBDUY"
      },
      "execution_count": null,
      "outputs": []
    }
  ]
}