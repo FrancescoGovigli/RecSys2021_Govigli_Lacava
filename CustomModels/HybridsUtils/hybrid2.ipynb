{
  "metadata": {
    "kernelspec": {
      "language": "python",
      "display_name": "Python 3",
      "name": "python3"
    },
    "language_info": {
      "pygments_lexer": "ipython3",
      "nbconvert_exporter": "python",
      "version": "3.6.4",
      "file_extension": ".py",
      "codemirror_mode": {
        "name": "ipython",
        "version": 3
      },
      "name": "python",
      "mimetype": "text/x-python"
    },
    "colab": {
      "name": "hybrid2.ipynb",
      "provenance": []
    }
  },
  "nbformat_minor": 0,
  "nbformat": 4,
  "cells": [
    {
      "cell_type": "code",
      "source": [
        "# Uploading all professor modules\n",
        "import sys\n",
        "sys.path.append('../GithubModules')\n",
        "print(sys.version)"
      ],
      "metadata": {
        "_cell_guid": "b1076dfc-b9ad-4769-8c92-a6c4dae69d19",
        "_uuid": "8f2839f25d086af736a60e9eeb907d3b93b6e0e5",
        "execution": {
          "iopub.execute_input": "2022-01-03T16:18:12.625173Z",
          "iopub.status.busy": "2022-01-03T16:18:12.623552Z",
          "iopub.status.idle": "2022-01-03T16:18:12.628052Z",
          "shell.execute_reply": "2022-01-03T16:18:12.62854Z",
          "shell.execute_reply.started": "2021-12-19T11:08:29.835612Z"
        },
        "papermill": {
          "duration": 0.023256,
          "end_time": "2022-01-03T16:18:12.628747",
          "exception": false,
          "start_time": "2022-01-03T16:18:12.605491",
          "status": "completed"
        },
        "tags": [],
        "id": "PirIYqqM_XXn"
      },
      "execution_count": null,
      "outputs": []
    },
    {
      "cell_type": "code",
      "source": [
        "import pandas as pd \n",
        "URM_df=pd.read_csv('../input/RecsysDataset/data_train.csv')\n",
        "ICM_genre_df=pd.read_csv('../input/RecsysDataset/data_ICM_genre.csv')\n",
        "ICM_subgenre_df=pd.read_csv('../input/RecsysDataset/data_ICM_subgenre.csv')\n",
        "ICM_channel_df=pd.read_csv('../input/RecsysDataset/data_ICM_channel.csv')\n",
        "ICM_event_df=pd.read_csv('../input/RecsysDataset/data_ICM_event.csv')\n",
        "# Extract a list of users who will be present in the final submission\n",
        "target_users = pd.read_csv('../input/RecsysDataset/data_target_users_test.csv')"
      ],
      "metadata": {
        "execution": {
          "iopub.execute_input": "2022-01-03T16:18:12.649608Z",
          "iopub.status.busy": "2022-01-03T16:18:12.649039Z",
          "iopub.status.idle": "2022-01-03T16:18:15.287083Z",
          "shell.execute_reply": "2022-01-03T16:18:15.28655Z",
          "shell.execute_reply.started": "2021-12-19T11:08:30.678195Z"
        },
        "papermill": {
          "duration": 2.649348,
          "end_time": "2022-01-03T16:18:15.287214",
          "exception": false,
          "start_time": "2022-01-03T16:18:12.637866",
          "status": "completed"
        },
        "tags": [],
        "id": "mH0Wgkhl_XXu"
      },
      "execution_count": null,
      "outputs": []
    },
    {
      "cell_type": "code",
      "source": [
        "# Just for usability/readability + convert values from float to int \n",
        "\n",
        "URM_df.columns = ['userID','itemID','interaction']\n",
        "ICM_channel_df.columns = ['itemID','featureID','value']\n",
        "ICM_event_df.columns = ['itemID','featureID','value']\n",
        "ICM_genre_df.columns = ['itemID','featureID','value']\n",
        "ICM_subgenre_df.columns = ['itemID','featureID','value']\n",
        "URM_df['interaction'] = URM_df['interaction'].astype(int)\n",
        "ICM_channel_df['value'] = ICM_channel_df['value'].astype(int)\n",
        "ICM_event_df['value'] = ICM_event_df['value'].astype(int)\n",
        "ICM_genre_df['value'] = ICM_genre_df['value'].astype(int)\n",
        "ICM_subgenre_df['value'] = ICM_subgenre_df['value'].astype(int)"
      ],
      "metadata": {
        "execution": {
          "iopub.execute_input": "2022-01-03T16:18:15.314198Z",
          "iopub.status.busy": "2022-01-03T16:18:15.304661Z",
          "iopub.status.idle": "2022-01-03T16:18:15.357237Z",
          "shell.execute_reply": "2022-01-03T16:18:15.356754Z",
          "shell.execute_reply.started": "2021-12-19T11:08:33.017843Z"
        },
        "papermill": {
          "duration": 0.062331,
          "end_time": "2022-01-03T16:18:15.357388",
          "exception": false,
          "start_time": "2022-01-03T16:18:15.295057",
          "status": "completed"
        },
        "tags": [],
        "id": "jDioWMQD_XXz"
      },
      "execution_count": null,
      "outputs": []
    },
    {
      "cell_type": "code",
      "source": [
        "#Let's use properties of the sparse matrices\n",
        "import scipy.sparse as sps\n",
        "import numpy as np\n",
        "from numpy import linalg as LA\n",
        "\n",
        "URM_sparse = sps.coo_matrix((URM_df['interaction'].values,(URM_df['userID'].values,URM_df['itemID'].values)))\n",
        "URM_csr = URM_sparse.tocsr()"
      ],
      "metadata": {
        "execution": {
          "iopub.execute_input": "2022-01-03T16:18:15.376781Z",
          "iopub.status.busy": "2022-01-03T16:18:15.376137Z",
          "iopub.status.idle": "2022-01-03T16:18:15.536929Z",
          "shell.execute_reply": "2022-01-03T16:18:15.536381Z",
          "shell.execute_reply.started": "2021-12-19T11:08:33.076336Z"
        },
        "papermill": {
          "duration": 0.172307,
          "end_time": "2022-01-03T16:18:15.537052",
          "exception": false,
          "start_time": "2022-01-03T16:18:15.364745",
          "status": "completed"
        },
        "tags": [],
        "id": "Mv6Kf414_XX1"
      },
      "execution_count": null,
      "outputs": []
    },
    {
      "cell_type": "code",
      "source": [
        "from Data_manager.split_functions.split_train_validation_random_holdout import split_train_in_two_percentage_global_sample\n",
        "from Data_manager.split_functions.split_train_validation_random_holdout import split_train_in_two_percentage_user_wise\n",
        "from Evaluation.Evaluator import EvaluatorHoldout\n",
        "\n",
        "URM_train, URM_validation = split_train_in_two_percentage_global_sample(URM_csr , train_percentage = 0.80)\n",
        "#URM_train, URM_validation = split_train_in_two_percentage_user_wise(URM_sparse.tocsr(), train_percentage = 0.8, verbose = False)\n",
        "evaluator_validation = EvaluatorHoldout(URM_validation, cutoff_list=[10])"
      ],
      "metadata": {
        "execution": {
          "iopub.execute_input": "2022-01-03T16:18:15.557654Z",
          "iopub.status.busy": "2022-01-03T16:18:15.557089Z",
          "iopub.status.idle": "2022-01-03T16:18:16.125168Z",
          "shell.execute_reply": "2022-01-03T16:18:16.125628Z",
          "shell.execute_reply.started": "2021-12-19T11:08:33.269699Z"
        },
        "papermill": {
          "duration": 0.581061,
          "end_time": "2022-01-03T16:18:16.125778",
          "exception": false,
          "start_time": "2022-01-03T16:18:15.544717",
          "status": "completed"
        },
        "tags": [],
        "id": "g4OavA3T_XX3"
      },
      "execution_count": null,
      "outputs": []
    },
    {
      "cell_type": "code",
      "source": [
        "######################################################################\n",
        "# HERE IMPORT, DEFINE AND FIT THE PAIR OF RECOMMENDERS YOU WANT TO HYBRID\n",
        "######################################################################"
      ],
      "metadata": {
        "execution": {
          "iopub.execute_input": "2022-01-03T16:18:16.222458Z",
          "iopub.status.busy": "2022-01-03T16:18:16.221297Z",
          "iopub.status.idle": "2022-01-03T16:54:11.468872Z",
          "shell.execute_reply": "2022-01-03T16:54:11.470191Z"
        },
        "papermill": {
          "duration": 2155.261379,
          "end_time": "2022-01-03T16:54:11.470635",
          "exception": false,
          "start_time": "2022-01-03T16:18:16.209256",
          "status": "completed"
        },
        "tags": [],
        "id": "Q2P8dvzg_XX5"
      },
      "execution_count": null,
      "outputs": []
    },
    {
      "cell_type": "code",
      "source": [
        "from Recommenders.BaseRecommender import BaseRecommender\n",
        "\n",
        "class DifferentLossScoresHybridRecommender(BaseRecommender):\n",
        "    \"\"\" ScoresHybridRecommender\n",
        "    Hybrid of two prediction scores R = R1/norm*alpha + R2/norm*(1-alpha) where R1 and R2 come from\n",
        "    algorithms trained on different loss functions.\n",
        "\n",
        "    \"\"\"\n",
        "\n",
        "    RECOMMENDER_NAME = \"DifferentLossScoresHybridRecommender\"\n",
        "\n",
        "\n",
        "    def __init__(self, URM_train, recommender_1, recommender_2):\n",
        "        super(DifferentLossScoresHybridRecommender, self).__init__(URM_train)\n",
        "\n",
        "        self.URM_train = sps.csr_matrix(URM_train)\n",
        "        self.recommender_1 = recommender_1\n",
        "        self.recommender_2 = recommender_2\n",
        "        \n",
        "        \n",
        "        \n",
        "    def fit(self, norm, alpha = 0.5):\n",
        "\n",
        "        self.alpha = alpha\n",
        "        self.norm = norm\n",
        "\n",
        "\n",
        "    def _compute_item_score(self, user_id_array, items_to_compute):\n",
        "        \n",
        "        item_weights_1 = self.recommender_1._compute_item_score(user_id_array)\n",
        "        item_weights_2 = self.recommender_2._compute_item_score(user_id_array)\n",
        "\n",
        "        norm_item_weights_1 = LA.norm(item_weights_1, self.norm)\n",
        "        norm_item_weights_2 = LA.norm(item_weights_2, self.norm)\n",
        "        \n",
        "        \n",
        "        if norm_item_weights_1 == 0:\n",
        "            raise ValueError(\"Norm {} of item weights for recommender 1 is zero. Avoiding division by zero\".format(self.norm))\n",
        "        \n",
        "        if norm_item_weights_2 == 0:\n",
        "            raise ValueError(\"Norm {} of item weights for recommender 2 is zero. Avoiding division by zero\".format(self.norm))\n",
        "        \n",
        "        item_weights = item_weights_1 / norm_item_weights_1 * self.alpha + item_weights_2 / norm_item_weights_2 * (1-self.alpha)\n",
        "\n",
        "        return item_weights"
      ],
      "metadata": {
        "execution": {
          "iopub.execute_input": "2022-01-03T16:54:11.80693Z",
          "iopub.status.busy": "2022-01-03T16:54:11.806121Z",
          "iopub.status.idle": "2022-01-03T16:54:11.808328Z",
          "shell.execute_reply": "2022-01-03T16:54:11.808784Z"
        },
        "papermill": {
          "duration": 0.143335,
          "end_time": "2022-01-03T16:54:11.808914",
          "exception": false,
          "start_time": "2022-01-03T16:54:11.665579",
          "status": "completed"
        },
        "tags": [],
        "id": "j8AscEdX_XX6"
      },
      "execution_count": null,
      "outputs": []
    },
    {
      "cell_type": "code",
      "source": [
        "hybrid_recommender = DifferentLossScoresHybridRecommender(URM_train, SLIM, iALS)\n",
        "\n",
        "for norm in [1, 2, np.inf, -np.inf]:\n",
        "    for alpha in list(np.arange(0.5, 1, 0.01)): # CHOOSE A PROPER ALPHA TO ASSIGN AS WEIGHT TO THE RECOMMENDERS\n",
        "        hybrid_recommender.fit(norm, alpha)\n",
        "        \n",
        "        result_df, _ = evaluator_validation.evaluateRecommender(hybrid_recommender)\n",
        "        print(\"Norm: {}, Alpha = {}, Result: {}\".format(norm, alpha, result_df.loc[10][\"MAP\"]))"
      ],
      "metadata": {
        "_kg_hide-input": false,
        "execution": {
          "iopub.execute_input": "2022-01-03T16:54:12.090081Z",
          "iopub.status.busy": "2022-01-03T16:54:12.088876Z",
          "iopub.status.idle": "2022-01-03T20:03:16.21451Z",
          "shell.execute_reply": "2022-01-03T20:03:16.214012Z"
        },
        "papermill": {
          "duration": 11344.265581,
          "end_time": "2022-01-03T20:03:16.214648",
          "exception": false,
          "start_time": "2022-01-03T16:54:11.949067",
          "status": "completed"
        },
        "tags": [],
        "id": "glom-b0I_XX8"
      },
      "execution_count": null,
      "outputs": []
    }
  ]
}