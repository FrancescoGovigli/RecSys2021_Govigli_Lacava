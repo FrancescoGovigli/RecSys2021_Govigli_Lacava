{
  "metadata": {
    "kernelspec": {
      "language": "python",
      "display_name": "Python 3",
      "name": "python3"
    },
    "language_info": {
      "pygments_lexer": "ipython3",
      "nbconvert_exporter": "python",
      "version": "3.6.4",
      "file_extension": ".py",
      "codemirror_mode": {
        "name": "ipython",
        "version": 3
      },
      "name": "python",
      "mimetype": "text/x-python"
    },
    "colab": {
      "name": "cotraining_SLIMBPR_itemKNN.ipynb",
      "provenance": []
    }
  },
  "nbformat_minor": 0,
  "nbformat": 4,
  "cells": [
    {
      "cell_type": "code",
      "source": [
        "# Uploading all professor modules\n",
        "import sys\n",
        "sys.path.append('../GithubModules')\n",
        "print(sys.version)"
      ],
      "metadata": {
        "_uuid": "8f2839f25d086af736a60e9eeb907d3b93b6e0e5",
        "_cell_guid": "b1076dfc-b9ad-4769-8c92-a6c4dae69d19",
        "execution": {
          "iopub.status.busy": "2022-01-06T12:52:05.810136Z",
          "iopub.execute_input": "2022-01-06T12:52:05.810804Z",
          "iopub.status.idle": "2022-01-06T12:52:05.84132Z",
          "shell.execute_reply.started": "2022-01-06T12:52:05.810682Z",
          "shell.execute_reply": "2022-01-06T12:52:05.840408Z"
        },
        "trusted": true,
        "id": "PAdZkxfjGVgg"
      },
      "execution_count": null,
      "outputs": []
    },
    {
      "cell_type": "code",
      "source": [
        "import pandas as pd \n",
        "URM_df=pd.read_csv('../input/RecsysDataset/data_train.csv')\n",
        "ICM_genre_df=pd.read_csv('../input/RecsysDataset/data_ICM_genre.csv')\n",
        "ICM_subgenre_df=pd.read_csv('../input/RecsysDataset/data_ICM_subgenre.csv')\n",
        "ICM_channel_df=pd.read_csv('../input/RecsysDataset/data_ICM_channel.csv')\n",
        "ICM_event_df=pd.read_csv('../input/RecsysDataset/data_ICM_event.csv')\n",
        "# Extract a list of users who will be present in the final submission\n",
        "target_users = pd.read_csv('../input/RecsysDataset/data_target_users_test.csv')"
      ],
      "metadata": {
        "execution": {
          "iopub.status.busy": "2022-01-06T12:52:08.419162Z",
          "iopub.execute_input": "2022-01-06T12:52:08.419473Z",
          "iopub.status.idle": "2022-01-06T12:52:11.214175Z",
          "shell.execute_reply.started": "2022-01-06T12:52:08.41943Z",
          "shell.execute_reply": "2022-01-06T12:52:11.213118Z"
        },
        "trusted": true,
        "id": "sMfbfza3GVgk"
      },
      "execution_count": null,
      "outputs": []
    },
    {
      "cell_type": "code",
      "source": [
        "# Just for usability/readability + convert values from float to int \n",
        "\n",
        "URM_df.columns = ['userID','itemID','interaction']\n",
        "ICM_channel_df.columns = ['itemID','featureID','value']\n",
        "ICM_event_df.columns = ['itemID','featureID','value']\n",
        "ICM_genre_df.columns = ['itemID','featureID','value']\n",
        "ICM_subgenre_df.columns = ['itemID','featureID','value']\n",
        "URM_df['interaction'] = URM_df['interaction'].astype(int)\n",
        "ICM_channel_df['value'] = ICM_channel_df['value'].astype(int)\n",
        "ICM_event_df['value'] = ICM_event_df['value'].astype(int)\n",
        "ICM_genre_df['value'] = ICM_genre_df['value'].astype(int)\n",
        "ICM_subgenre_df['value'] = ICM_subgenre_df['value'].astype(int)"
      ],
      "metadata": {
        "execution": {
          "iopub.status.busy": "2022-01-06T12:52:11.2165Z",
          "iopub.execute_input": "2022-01-06T12:52:11.216752Z",
          "iopub.status.idle": "2022-01-06T12:52:11.275166Z",
          "shell.execute_reply.started": "2022-01-06T12:52:11.216723Z",
          "shell.execute_reply": "2022-01-06T12:52:11.274379Z"
        },
        "trusted": true,
        "id": "4_ZXzDvJGVgn"
      },
      "execution_count": null,
      "outputs": []
    },
    {
      "cell_type": "code",
      "source": [
        "#Let's use properties of the sparse matrices\n",
        "import scipy.sparse as sps\n",
        "import numpy as np\n",
        "URM_sparse = sps.coo_matrix((URM_df['interaction'].values,(URM_df['userID'].values,URM_df['itemID'].values)))\n",
        "URM_csr = URM_sparse.tocsr()\n"
      ],
      "metadata": {
        "execution": {
          "iopub.status.busy": "2022-01-06T12:52:11.279969Z",
          "iopub.execute_input": "2022-01-06T12:52:11.280432Z",
          "iopub.status.idle": "2022-01-06T12:52:11.492321Z",
          "shell.execute_reply.started": "2022-01-06T12:52:11.280391Z",
          "shell.execute_reply": "2022-01-06T12:52:11.491378Z"
        },
        "trusted": true,
        "id": "kt0ubXG1GVgp"
      },
      "execution_count": null,
      "outputs": []
    },
    {
      "cell_type": "code",
      "source": [
        "import pyximport\n",
        "pyximport.install()"
      ],
      "metadata": {
        "execution": {
          "iopub.status.busy": "2022-01-06T12:52:11.493785Z",
          "iopub.execute_input": "2022-01-06T12:52:11.494352Z",
          "iopub.status.idle": "2022-01-06T12:52:11.509553Z",
          "shell.execute_reply.started": "2022-01-06T12:52:11.494296Z",
          "shell.execute_reply": "2022-01-06T12:52:11.508564Z"
        },
        "trusted": true,
        "id": "ZLUGFBPLGVgq"
      },
      "execution_count": null,
      "outputs": []
    },
    {
      "cell_type": "code",
      "source": [
        "#prepare the environment to run Cython code\n",
        "!python run_compile_all_cython.py"
      ],
      "metadata": {
        "execution": {
          "iopub.status.busy": "2022-01-06T12:52:11.51104Z",
          "iopub.execute_input": "2022-01-06T12:52:11.511405Z",
          "iopub.status.idle": "2022-01-06T12:55:16.872839Z",
          "shell.execute_reply.started": "2022-01-06T12:52:11.511361Z",
          "shell.execute_reply": "2022-01-06T12:55:16.871789Z"
        },
        "trusted": true,
        "id": "yuQgqSlAGVgr"
      },
      "execution_count": null,
      "outputs": []
    },
    {
      "cell_type": "code",
      "source": [
        "from Data_manager.split_functions.split_train_validation_random_holdout import split_train_in_two_percentage_global_sample\n",
        "from Data_manager.split_functions.split_train_validation_random_holdout import split_train_in_two_percentage_user_wise\n",
        "from Evaluation.Evaluator import EvaluatorHoldout\n",
        "\n",
        "URM_train, URM_validation = split_train_in_two_percentage_global_sample(URM_csr , train_percentage = 0.80)\n",
        "#URM_train, URM_validation = split_train_in_two_percentage_user_wise(URM_sparse.tocsr(), train_percentage = 0.8, verbose = False)\n",
        "evaluator_validation = EvaluatorHoldout(URM_validation, cutoff_list=[10])"
      ],
      "metadata": {
        "execution": {
          "iopub.status.busy": "2022-01-06T12:55:36.755975Z",
          "iopub.execute_input": "2022-01-06T12:55:36.756237Z",
          "iopub.status.idle": "2022-01-06T12:55:37.076582Z",
          "shell.execute_reply.started": "2022-01-06T12:55:36.75621Z",
          "shell.execute_reply": "2022-01-06T12:55:37.075602Z"
        },
        "trusted": true,
        "id": "BiVaeZKbGVgs"
      },
      "execution_count": null,
      "outputs": []
    },
    {
      "cell_type": "code",
      "source": [
        "#itemKNN - BPR\n",
        "from Recommenders.BaseRecommender import BaseRecommender\n",
        "class CoTrainingRecommender(BaseRecommender):\n",
        "    \"\"\" ScoresHybridRecommender\n",
        "    Hybrid of two prediction scores R = R1*alpha + R2*(1-alpha)\n",
        "\n",
        "    \"\"\"\n",
        "\n",
        "    RECOMMENDER_NAME = \"CoTrainingRecommender\"\n",
        "\n",
        "    def __init__(self, URM_train, recommender_1, recommender_2):\n",
        "        super(CoTrainingRecommender, self).__init__(URM_train)\n",
        "\n",
        "        self.URM_train = sps.csr_matrix(URM_train)\n",
        "        self.recommender_1 = recommender_1\n",
        "        self.recommender_2 = recommender_2\n",
        "    \n",
        "        \n",
        "    def fit(self,norm,topKA,topKB,shrink,lambda_i,lambda_j,epochs,learning_rate,w1):\n",
        "        self.norm = norm\n",
        "        self.w1 = w1\n",
        "        self.recommender_1.fit(topK=topKA, shrink = shrink)\n",
        "        self.recommender_2.fit(topK=topKB,random_seed=1234,lambda_i=lambda_i,lambda_j=lambda_j,epochs = epochs,learning_rate = learning_rate)\n",
        "\n",
        "\n",
        "    def _compute_item_score(self, user_id_array, items_to_compute):\n",
        "        \n",
        "        # In a simple extension this could be a loop over a list of pretrained recommender objects\n",
        "        if(self.recommender_1.RECOMMENDER_NAME == (\"DifferentLossScoresHybridRecommender\" or \"ScoresHybridRecommender\")):\n",
        "            item_weights_1 = self.recommender_1._compute_item_score(user_id_array,items_to_compute) \n",
        "        else:    \n",
        "            item_weights_1 = self.recommender_1._compute_item_score(user_id_array)\n",
        "    \n",
        "        item_weights_2 = self.recommender_2._compute_item_score(user_id_array)\n",
        "\n",
        "        if(self.norm !=None):\n",
        "            if self.norm == (\"1\" or \"2\"):\n",
        "                norm_item_weights_1 = LA.norm(item_weights_1, int(self.norm))\n",
        "                norm_item_weights_2 = LA.norm(item_weights_2, int(self.norm))\n",
        "            elif self.norm == \"inf\":\n",
        "                norm_item_weights_1 = LA.norm(item_weights_1, np.inf)\n",
        "                norm_item_weights_2 = LA.norm(item_weights_2, np.inf)\n",
        "            else:\n",
        "                norm_item_weights_1 = LA.norm(item_weights_1, -np.inf)\n",
        "                norm_item_weights_2 = LA.norm(item_weights_2, -np.inf)   \n",
        "                \n",
        "            item_weights = (item_weights_1 / norm_item_weights_1 * self.w1) + item_weights_2 / norm_item_weights_2 *(1-self.w1)\n",
        "        else:\n",
        "            item_weights = item_weights_1*self.w1 + item_weights_2*(1-self.w1)\n",
        "\n",
        "        return item_weights"
      ],
      "metadata": {
        "execution": {
          "iopub.status.busy": "2022-01-06T12:55:38.553246Z",
          "iopub.execute_input": "2022-01-06T12:55:38.553664Z",
          "iopub.status.idle": "2022-01-06T12:55:38.567572Z",
          "shell.execute_reply.started": "2022-01-06T12:55:38.553635Z",
          "shell.execute_reply": "2022-01-06T12:55:38.5668Z"
        },
        "trusted": true,
        "id": "BQ9EPOFrGVgt"
      },
      "execution_count": null,
      "outputs": []
    },
    {
      "cell_type": "code",
      "source": [
        "from skopt.space import Real, Integer, Categorical\n",
        "import numpy as np\n",
        "hyperparameters_range_dictionary = {\n",
        "    'topKA': Integer(100,250),\n",
        "    'shrink': Integer(12,70),\n",
        "    'topKB': Integer(150,350),\n",
        "    \"lambda_i\": Real(0.0010,0.0055),\n",
        "    \"lambda_j\": Real(0.000005,0.0055),\n",
        "    \"epochs\" : Integer(200, 350),\n",
        "    \"learning_rate\" : Real(0.00045,0.04),\n",
        "    'w1': Real(0.05,0.95),\n",
        "    'norm': Categorical([\"1\",\"2\",\"inf\",\"-inf\"])\n",
        "}\n"
      ],
      "metadata": {
        "execution": {
          "iopub.status.busy": "2022-01-06T12:56:27.1337Z",
          "iopub.execute_input": "2022-01-06T12:56:27.133982Z",
          "iopub.status.idle": "2022-01-06T12:56:27.147314Z",
          "shell.execute_reply.started": "2022-01-06T12:56:27.13395Z",
          "shell.execute_reply": "2022-01-06T12:56:27.146484Z"
        },
        "trusted": true,
        "id": "wAjHXnRPGVgv"
      },
      "execution_count": null,
      "outputs": []
    },
    {
      "cell_type": "code",
      "source": [
        "earlystopping_keywargs = {\"validation_every_n\": 5,\n",
        "                          \"stop_on_validation\": True,\n",
        "                          \"evaluator_object\": evaluator_validation,\n",
        "                          \"lower_validations_allowed\": 5,\n",
        "                          \"validation_metric\": \"MAP\",\n",
        "                          }"
      ],
      "metadata": {
        "execution": {
          "iopub.status.busy": "2022-01-06T12:56:30.138281Z",
          "iopub.execute_input": "2022-01-06T12:56:30.138561Z",
          "iopub.status.idle": "2022-01-06T12:56:30.142978Z",
          "shell.execute_reply.started": "2022-01-06T12:56:30.138534Z",
          "shell.execute_reply": "2022-01-06T12:56:30.142182Z"
        },
        "trusted": true,
        "id": "_obOmA4QGVgw"
      },
      "execution_count": null,
      "outputs": []
    },
    {
      "cell_type": "code",
      "source": [
        "from HyperparameterTuning.SearchBayesianSkopt import SearchBayesianSkopt\n",
        "from Recommenders.SLIM.Cython.SLIM_BPR_Cython import SLIM_BPR_Cython\n",
        "from Recommenders.KNN.ItemKNNCFRecommender import ItemKNNCFRecommender\n",
        "itemKNN = ItemKNNCFRecommender(URM_train)\n",
        "slim_BPR = SLIM_BPR_Cython(URM_train)\n",
        "recommender_class = CoTrainingRecommender\n",
        "\n",
        "hyperparameterSearch = SearchBayesianSkopt(recommender_class,\n",
        "                                         evaluator_validation=evaluator_validation)"
      ],
      "metadata": {
        "execution": {
          "iopub.status.busy": "2022-01-06T12:56:31.738511Z",
          "iopub.execute_input": "2022-01-06T12:56:31.73902Z",
          "iopub.status.idle": "2022-01-06T12:56:31.96032Z",
          "shell.execute_reply.started": "2022-01-06T12:56:31.738972Z",
          "shell.execute_reply": "2022-01-06T12:56:31.959316Z"
        },
        "trusted": true,
        "id": "qUT_24OPGVgx"
      },
      "execution_count": null,
      "outputs": []
    },
    {
      "cell_type": "code",
      "source": [
        "from HyperparameterTuning.SearchAbstractClass import SearchInputRecommenderArgs\n",
        "  \n",
        "recommender_input_args = SearchInputRecommenderArgs(\n",
        "    CONSTRUCTOR_POSITIONAL_ARGS = [URM_train, itemKNN,slim_BPR],     # For a CBF model simply put [URM_train, ICM_train]\n",
        "    CONSTRUCTOR_KEYWORD_ARGS = {},\n",
        "    FIT_POSITIONAL_ARGS = [],\n",
        "    FIT_KEYWORD_ARGS = {}\n",
        ")\n",
        "recommender_input_args_last_test = SearchInputRecommenderArgs(\n",
        "    CONSTRUCTOR_POSITIONAL_ARGS = [URM_validation],     # For a CBF model simply put [URM_train_validation, ICM_train]\n",
        "    CONSTRUCTOR_KEYWORD_ARGS = {},\n",
        "    FIT_POSITIONAL_ARGS = [],\n",
        "    FIT_KEYWORD_ARGS = earlystopping_keywargs\n",
        ")"
      ],
      "metadata": {
        "execution": {
          "iopub.status.busy": "2022-01-06T12:56:05.304259Z",
          "iopub.execute_input": "2022-01-06T12:56:05.304896Z",
          "iopub.status.idle": "2022-01-06T12:56:05.310773Z",
          "shell.execute_reply.started": "2022-01-06T12:56:05.30485Z",
          "shell.execute_reply": "2022-01-06T12:56:05.309945Z"
        },
        "trusted": true,
        "id": "M9pE6Z-GGVgy"
      },
      "execution_count": null,
      "outputs": []
    },
    {
      "cell_type": "code",
      "source": [
        "import os\n",
        "\n",
        "output_folder_path = output_folder_path = '/Results/cotrainedBPR_KNN/'\n",
        "\n",
        "# If directory does not exist, create\n",
        "if not os.path.exists(output_folder_path):\n",
        "    os.makedirs(output_folder_path)\n",
        "    \n",
        "n_cases = 100  # using 10 as an example\n",
        "n_random_starts = int(n_cases*0.3)\n",
        "metric_to_optimize = \"MAP\"   \n",
        "cutoff_to_optimize = 10"
      ],
      "metadata": {
        "execution": {
          "iopub.status.busy": "2022-01-06T12:56:35.705609Z",
          "iopub.execute_input": "2022-01-06T12:56:35.706818Z",
          "iopub.status.idle": "2022-01-06T12:56:35.713026Z",
          "shell.execute_reply.started": "2022-01-06T12:56:35.706762Z",
          "shell.execute_reply": "2022-01-06T12:56:35.712172Z"
        },
        "trusted": true,
        "id": "Sb6mjboWGVgz"
      },
      "execution_count": null,
      "outputs": []
    },
    {
      "cell_type": "code",
      "source": [
        "hyperparameterSearch.search(recommender_input_args,\n",
        "                       recommender_input_args_last_test = recommender_input_args_last_test,\n",
        "                       hyperparameter_search_space = hyperparameters_range_dictionary,\n",
        "                       n_cases = n_cases,\n",
        "                       n_random_starts = n_random_starts,\n",
        "                       save_model = \"last\",\n",
        "                       output_folder_path = output_folder_path, # Where to save the results\n",
        "                       output_file_name_root = recommender_class.RECOMMENDER_NAME, # How to call the files\n",
        "                       metric_to_optimize = metric_to_optimize,\n",
        "                       cutoff_to_optimize = cutoff_to_optimize,\n",
        "                      )"
      ],
      "metadata": {
        "execution": {
          "iopub.status.busy": "2022-01-06T12:56:37.151998Z",
          "iopub.execute_input": "2022-01-06T12:56:37.15229Z"
        },
        "trusted": true,
        "id": "XJPWS0PvGVgz"
      },
      "execution_count": null,
      "outputs": []
    }
  ]
}