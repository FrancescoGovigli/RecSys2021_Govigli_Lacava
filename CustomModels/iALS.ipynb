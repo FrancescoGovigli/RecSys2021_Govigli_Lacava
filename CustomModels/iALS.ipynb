{
  "metadata": {
    "kernelspec": {
      "language": "python",
      "display_name": "Python 3",
      "name": "python3"
    },
    "language_info": {
      "pygments_lexer": "ipython3",
      "nbconvert_exporter": "python",
      "version": "3.6.4",
      "file_extension": ".py",
      "codemirror_mode": {
        "name": "ipython",
        "version": 3
      },
      "name": "python",
      "mimetype": "text/x-python"
    },
    "colab": {
      "name": "iALS.ipynb",
      "provenance": []
    }
  },
  "nbformat_minor": 0,
  "nbformat": 4,
  "cells": [
    {
      "cell_type": "code",
      "source": [
        "# Uploading all professor modules\n",
        "import sys\n",
        "sys.path.append('../GithubModules')\n",
        "print(sys.version)"
      ],
      "metadata": {
        "_uuid": "62f0dcfd-7da8-4846-93b4-4d46f32b8d82",
        "_cell_guid": "21f031f4-51a1-4feb-b314-61f400c6e46b",
        "execution": {
          "iopub.status.busy": "2021-12-18T18:44:50.209674Z",
          "iopub.execute_input": "2021-12-18T18:44:50.209934Z",
          "iopub.status.idle": "2021-12-18T18:44:50.215264Z",
          "shell.execute_reply.started": "2021-12-18T18:44:50.209909Z",
          "shell.execute_reply": "2021-12-18T18:44:50.214377Z"
        },
        "jupyter": {
          "outputs_hidden": false
        },
        "trusted": true,
        "id": "oXBnA9L-63UA"
      },
      "execution_count": null,
      "outputs": []
    },
    {
      "cell_type": "code",
      "source": [
        "import pandas as pd \n",
        "URM_df=pd.read_csv('../input/RecsysDataset/data_train.csv')\n",
        "ICM_genre_df=pd.read_csv('../input/RecsysDataset/data_ICM_genre.csv')\n",
        "ICM_subgenre_df=pd.read_csv('../input/RecsysDataset/data_ICM_subgenre.csv')\n",
        "ICM_channel_df=pd.read_csv('../input/RecsysDataset/data_ICM_channel.csv')\n",
        "ICM_event_df=pd.read_csv('../input/RecsysDataset/data_ICM_event.csv')\n",
        "# Extract a list of users who will be present in the final submission\n",
        "target_users = pd.read_csv('../input/RecsysDataset/data_target_users_test.csv')"
      ],
      "metadata": {
        "_uuid": "0b11853b-c59d-4ae6-b952-3a41038b0145",
        "_cell_guid": "0a8d8666-af07-4c60-b0a3-4d70debadb7e",
        "execution": {
          "iopub.status.busy": "2021-12-18T18:44:51.016429Z",
          "iopub.execute_input": "2021-12-18T18:44:51.016764Z",
          "iopub.status.idle": "2021-12-18T18:44:52.9361Z",
          "shell.execute_reply.started": "2021-12-18T18:44:51.016721Z",
          "shell.execute_reply": "2021-12-18T18:44:52.935185Z"
        },
        "jupyter": {
          "outputs_hidden": false
        },
        "trusted": true,
        "id": "MNgb-lNV63UG"
      },
      "execution_count": null,
      "outputs": []
    },
    {
      "cell_type": "code",
      "source": [
        "# Just for usability/readability + convert values from float to int \n",
        "\n",
        "URM_df.columns = ['userID','itemID','interaction']\n",
        "ICM_channel_df.columns = ['itemID','featureID','value']\n",
        "ICM_event_df.columns = ['itemID','featureID','value']\n",
        "ICM_genre_df.columns = ['itemID','featureID','value']\n",
        "ICM_subgenre_df.columns = ['itemID','featureID','value']\n",
        "URM_df['interaction'] = URM_df['interaction'].astype(int)\n",
        "ICM_channel_df['value'] = ICM_channel_df['value'].astype(int)\n",
        "ICM_event_df['value'] = ICM_event_df['value'].astype(int)\n",
        "ICM_genre_df['value'] = ICM_genre_df['value'].astype(int)\n",
        "ICM_subgenre_df['value'] = ICM_subgenre_df['value'].astype(int)"
      ],
      "metadata": {
        "_uuid": "b56d28e1-1382-4306-9394-16735111d61b",
        "_cell_guid": "56c24d4d-ae71-465d-848f-08a926dd753d",
        "execution": {
          "iopub.status.busy": "2021-12-18T18:44:52.938628Z",
          "iopub.execute_input": "2021-12-18T18:44:52.938934Z",
          "iopub.status.idle": "2021-12-18T18:44:52.985469Z",
          "shell.execute_reply.started": "2021-12-18T18:44:52.938888Z",
          "shell.execute_reply": "2021-12-18T18:44:52.984602Z"
        },
        "jupyter": {
          "outputs_hidden": false
        },
        "trusted": true,
        "id": "Efn2TCPy63UJ"
      },
      "execution_count": null,
      "outputs": []
    },
    {
      "cell_type": "code",
      "source": [
        "#Let's use properties of the sparse matrices\n",
        "import scipy.sparse as sps\n",
        "import numpy as np\n",
        "URM_sparse = sps.coo_matrix((URM_df['interaction'].values,(URM_df['userID'].values,URM_df['itemID'].values)))\n",
        "URM_csr = URM_sparse.tocsr()"
      ],
      "metadata": {
        "_uuid": "d28aa6cd-f432-468b-98db-8ff05d31ae9a",
        "_cell_guid": "1a9ee7ac-cce1-4c67-9a60-bb5d2b042ef4",
        "execution": {
          "iopub.status.busy": "2021-12-18T18:44:52.986874Z",
          "iopub.execute_input": "2021-12-18T18:44:52.987099Z",
          "iopub.status.idle": "2021-12-18T18:44:53.082824Z",
          "shell.execute_reply.started": "2021-12-18T18:44:52.987073Z",
          "shell.execute_reply": "2021-12-18T18:44:53.081923Z"
        },
        "jupyter": {
          "outputs_hidden": false
        },
        "trusted": true,
        "id": "MJb8271P63UL"
      },
      "execution_count": null,
      "outputs": []
    },
    {
      "cell_type": "code",
      "source": [
        "from Data_manager.split_functions.split_train_validation_random_holdout import split_train_in_two_percentage_global_sample\n",
        "from Data_manager.split_functions.split_train_validation_random_holdout import split_train_in_two_percentage_user_wise\n",
        "from Evaluation.Evaluator import EvaluatorHoldout\n",
        "\n",
        "URM_train, URM_validation = split_train_in_two_percentage_global_sample(URM_csr , train_percentage = 0.80)\n",
        "#URM_train, URM_validation = split_train_in_two_percentage_user_wise(URM_sparse.tocsr(), train_percentage = 0.8, verbose = False)\n",
        "evaluator_validation = EvaluatorHoldout(URM_validation, cutoff_list=[10])"
      ],
      "metadata": {
        "_uuid": "e820e1d7-6e42-4884-b753-57b431b01fdd",
        "_cell_guid": "445c5571-6abc-4cc1-a7e8-f0a8f525993d",
        "execution": {
          "iopub.status.busy": "2021-12-18T18:44:53.084193Z",
          "iopub.execute_input": "2021-12-18T18:44:53.08469Z",
          "iopub.status.idle": "2021-12-18T18:45:08.239634Z",
          "shell.execute_reply.started": "2021-12-18T18:44:53.084655Z",
          "shell.execute_reply": "2021-12-18T18:45:08.238655Z"
        },
        "jupyter": {
          "outputs_hidden": false
        },
        "trusted": true,
        "id": "Rs0mgTSY63UN"
      },
      "execution_count": null,
      "outputs": []
    },
    {
      "cell_type": "code",
      "source": [
        "from skopt.space import Real, Integer, Categorical\n",
        "import numpy as np\n",
        "hyperparameters_range_dictionary = {\n",
        "    'epochs': Integer(130, 200),\n",
        "    'num_factors': Integer(30, 55),\n",
        "    'alpha': Real(0.6, 0.7),\n",
        "    'reg': Real(0.0005, 0.0045)\n",
        "}"
      ],
      "metadata": {
        "_uuid": "788ce8df-5992-4ac2-a258-881c44b00aac",
        "_cell_guid": "e7e8a277-67f1-47b1-9652-c820ee08e24c",
        "execution": {
          "iopub.status.busy": "2021-12-18T18:45:08.240941Z",
          "iopub.execute_input": "2021-12-18T18:45:08.241232Z",
          "iopub.status.idle": "2021-12-18T18:45:08.252993Z",
          "shell.execute_reply.started": "2021-12-18T18:45:08.241195Z",
          "shell.execute_reply": "2021-12-18T18:45:08.25221Z"
        },
        "jupyter": {
          "outputs_hidden": false
        },
        "trusted": true,
        "id": "lr3sXv4T63UP"
      },
      "execution_count": null,
      "outputs": []
    },
    {
      "cell_type": "code",
      "source": [
        "from HyperparameterTuning.SearchBayesianSkopt import SearchBayesianSkopt\n",
        "from Recommenders.MatrixFactorization.IALSRecommender import IALSRecommender\n",
        "recommender_class = IALSRecommender\n",
        "\n",
        "hyperparameterSearch = SearchBayesianSkopt(recommender_class,\n",
        "                                         evaluator_validation=evaluator_validation)"
      ],
      "metadata": {
        "_uuid": "0f8c1b20-5c0c-41f6-994f-0b41907ca431",
        "_cell_guid": "2ce3a810-4de4-4da8-8a03-9e81b4db74d7",
        "execution": {
          "iopub.status.busy": "2021-12-18T18:45:08.254092Z",
          "iopub.execute_input": "2021-12-18T18:45:08.254306Z",
          "iopub.status.idle": "2021-12-18T18:45:08.266082Z",
          "shell.execute_reply.started": "2021-12-18T18:45:08.25428Z",
          "shell.execute_reply": "2021-12-18T18:45:08.265557Z"
        },
        "jupyter": {
          "outputs_hidden": false
        },
        "trusted": true,
        "id": "Hwkz43ue63UQ"
      },
      "execution_count": null,
      "outputs": []
    },
    {
      "cell_type": "code",
      "source": [
        "import os\n",
        "\n",
        "output_folder_path = '/Results/iALS/'\n",
        "\n",
        "# If directory does not exist, create\n",
        "if not os.path.exists(output_folder_path):\n",
        "    os.makedirs(output_folder_path)\n",
        "    \n",
        "n_cases = 15\n",
        "n_random_starts = int(n_cases*0.3)\n",
        "metric_to_optimize = \"MAP\"   \n",
        "cutoff_to_optimize = 10"
      ],
      "metadata": {
        "_uuid": "62bc4255-44a2-4444-b77e-d58e9dd17a51",
        "_cell_guid": "5a92e6eb-8d01-47c3-a803-4b645d23ab48",
        "execution": {
          "iopub.status.busy": "2021-12-18T18:45:08.26801Z",
          "iopub.execute_input": "2021-12-18T18:45:08.268322Z",
          "iopub.status.idle": "2021-12-18T18:45:08.278247Z",
          "shell.execute_reply.started": "2021-12-18T18:45:08.268296Z",
          "shell.execute_reply": "2021-12-18T18:45:08.277451Z"
        },
        "jupyter": {
          "outputs_hidden": false
        },
        "trusted": true,
        "id": "gTiiN9CV63UR"
      },
      "execution_count": null,
      "outputs": []
    },
    {
      "cell_type": "code",
      "source": [
        "earlystopping_keywargs = {\"validation_every_n\": 5,\n",
        "                          \"stop_on_validation\": True,\n",
        "                          \"evaluator_object\": evaluator_validation,\n",
        "                          \"lower_validations_allowed\": 5,\n",
        "                          \"validation_metric\": metric_to_optimize,\n",
        "                          }"
      ],
      "metadata": {
        "_uuid": "2daa1eca-1d78-4852-a1cc-04e110ff556b",
        "_cell_guid": "6cbf2d08-10a9-436e-9701-22f211f4726e",
        "execution": {
          "iopub.status.busy": "2021-12-18T18:45:08.279625Z",
          "iopub.execute_input": "2021-12-18T18:45:08.279844Z",
          "iopub.status.idle": "2021-12-18T18:45:08.293869Z",
          "shell.execute_reply.started": "2021-12-18T18:45:08.279816Z",
          "shell.execute_reply": "2021-12-18T18:45:08.293003Z"
        },
        "jupyter": {
          "outputs_hidden": false
        },
        "trusted": true,
        "id": "nPCRLGVo63US"
      },
      "execution_count": null,
      "outputs": []
    },
    {
      "cell_type": "code",
      "source": [
        "from HyperparameterTuning.SearchAbstractClass import SearchInputRecommenderArgs\n",
        "  \n",
        "recommender_input_args = SearchInputRecommenderArgs(\n",
        "    CONSTRUCTOR_POSITIONAL_ARGS = [URM_train],     # For a CBF model simply put [URM_train, ICM_train]\n",
        "    CONSTRUCTOR_KEYWORD_ARGS = {},\n",
        "    FIT_POSITIONAL_ARGS = [],\n",
        "    FIT_KEYWORD_ARGS = {}\n",
        ")\n",
        "recommender_input_args_last_test = SearchInputRecommenderArgs(\n",
        "    CONSTRUCTOR_POSITIONAL_ARGS = [URM_validation],     # For a CBF model simply put [URM_train_validation, ICM_train]\n",
        "    CONSTRUCTOR_KEYWORD_ARGS = {},\n",
        "    FIT_POSITIONAL_ARGS = [],\n",
        "    FIT_KEYWORD_ARGS = earlystopping_keywargs\n",
        ")"
      ],
      "metadata": {
        "_uuid": "16f3049c-1144-49df-bc7c-9ab54a6f53a6",
        "_cell_guid": "719f4c63-82a2-410f-805e-c69e7414373a",
        "execution": {
          "iopub.status.busy": "2021-12-18T18:45:08.29524Z",
          "iopub.execute_input": "2021-12-18T18:45:08.2957Z",
          "iopub.status.idle": "2021-12-18T18:45:08.30612Z",
          "shell.execute_reply.started": "2021-12-18T18:45:08.295655Z",
          "shell.execute_reply": "2021-12-18T18:45:08.305372Z"
        },
        "jupyter": {
          "outputs_hidden": false
        },
        "trusted": true,
        "id": "Vx4Z_3RA63UT"
      },
      "execution_count": null,
      "outputs": []
    },
    {
      "cell_type": "code",
      "source": [
        "hyperparameterSearch.search(recommender_input_args,\n",
        "                       recommender_input_args_last_test = recommender_input_args_last_test,\n",
        "                       hyperparameter_search_space = hyperparameters_range_dictionary,\n",
        "                       n_cases = n_cases,\n",
        "                       n_random_starts = n_random_starts,\n",
        "                       save_model = \"last\",\n",
        "                       output_folder_path = output_folder_path, # Where to save the results\n",
        "                       output_file_name_root = recommender_class.RECOMMENDER_NAME, # How to call the files\n",
        "                       metric_to_optimize = metric_to_optimize,\n",
        "                       cutoff_to_optimize = cutoff_to_optimize,\n",
        "                      )"
      ],
      "metadata": {
        "_uuid": "c06baa10-a287-4bb8-9865-06631d2e394b",
        "_cell_guid": "15586e02-fba0-461d-a30a-5cd15553b8de",
        "execution": {
          "iopub.status.busy": "2021-12-18T18:45:08.307284Z",
          "iopub.execute_input": "2021-12-18T18:45:08.307661Z"
        },
        "jupyter": {
          "outputs_hidden": false
        },
        "trusted": true,
        "id": "fXC4LV-B63UU"
      },
      "execution_count": null,
      "outputs": []
    }
  ]
}