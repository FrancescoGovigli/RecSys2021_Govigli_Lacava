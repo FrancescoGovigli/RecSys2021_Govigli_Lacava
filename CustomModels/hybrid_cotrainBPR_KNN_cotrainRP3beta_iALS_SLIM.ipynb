{
  "metadata": {
    "kernelspec": {
      "language": "python",
      "display_name": "Python 3",
      "name": "python3"
    },
    "language_info": {
      "pygments_lexer": "ipython3",
      "nbconvert_exporter": "python",
      "version": "3.6.4",
      "file_extension": ".py",
      "codemirror_mode": {
        "name": "ipython",
        "version": 3
      },
      "name": "python",
      "mimetype": "text/x-python"
    },
    "colab": {
      "name": "hybrid_cotrainBPR-KNN_cotrainRP3beta-iALS_SLIM.ipynb",
      "provenance": []
    }
  },
  "nbformat_minor": 0,
  "nbformat": 4,
  "cells": [
    {
      "cell_type": "code",
      "source": [
        "# Uploading all professor modules\n",
        "import sys\n",
        "sys.path.append('../GithubModules')\n",
        "print(sys.version)"
      ],
      "metadata": {
        "_cell_guid": "b1076dfc-b9ad-4769-8c92-a6c4dae69d19",
        "_uuid": "8f2839f25d086af736a60e9eeb907d3b93b6e0e5",
        "papermill": {
          "duration": 0.026817,
          "end_time": "2021-12-10T07:42:26.829965",
          "exception": false,
          "start_time": "2021-12-10T07:42:26.803148",
          "status": "completed"
        },
        "tags": [],
        "execution": {
          "iopub.status.busy": "2022-01-05T08:43:33.330933Z",
          "iopub.execute_input": "2022-01-05T08:43:33.331406Z",
          "iopub.status.idle": "2022-01-05T08:43:33.363263Z",
          "shell.execute_reply.started": "2022-01-05T08:43:33.331233Z",
          "shell.execute_reply": "2022-01-05T08:43:33.362571Z"
        },
        "trusted": true,
        "id": "5vlcryMdxBuv"
      },
      "execution_count": null,
      "outputs": []
    },
    {
      "cell_type": "code",
      "source": [
        "import pandas as pd \n",
        "URM_df=pd.read_csv('../input/RecsysDataset/data_train.csv')\n",
        "ICM_genre_df=pd.read_csv('../input/RecsysDataset/data_ICM_genre.csv')\n",
        "ICM_subgenre_df=pd.read_csv('../input/RecsysDataset/data_ICM_subgenre.csv')\n",
        "ICM_channel_df=pd.read_csv('../input/RecsysDataset/data_ICM_channel.csv')\n",
        "ICM_event_df=pd.read_csv('../input/RecsysDataset/data_ICM_event.csv')\n",
        "# Extract a list of users who will be present in the final submission\n",
        "target_users = pd.read_csv('../input/RecsysDataset/data_target_users_test.csv')"
      ],
      "metadata": {
        "papermill": {
          "duration": 2.270669,
          "end_time": "2021-12-10T07:42:31.786205",
          "exception": false,
          "start_time": "2021-12-10T07:42:29.515536",
          "status": "completed"
        },
        "tags": [],
        "execution": {
          "iopub.status.busy": "2022-01-05T08:43:35.572598Z",
          "iopub.execute_input": "2022-01-05T08:43:35.573337Z",
          "iopub.status.idle": "2022-01-05T08:43:38.461084Z",
          "shell.execute_reply.started": "2022-01-05T08:43:35.57329Z",
          "shell.execute_reply": "2022-01-05T08:43:38.459929Z"
        },
        "trusted": true,
        "id": "Cimv3uh3xBvL"
      },
      "execution_count": null,
      "outputs": []
    },
    {
      "cell_type": "code",
      "source": [
        "# Just for usability/readability + convert values from float to int \n",
        "\n",
        "URM_df.columns = ['userID','itemID','interaction']\n",
        "ICM_channel_df.columns = ['itemID','featureID','value']\n",
        "ICM_event_df.columns = ['itemID','featureID','value']\n",
        "ICM_genre_df.columns = ['itemID','featureID','value']\n",
        "ICM_subgenre_df.columns = ['itemID','featureID','value']\n",
        "URM_df['interaction'] = URM_df['interaction'].astype(int)\n",
        "ICM_channel_df['value'] = ICM_channel_df['value'].astype(int)\n",
        "ICM_event_df['value'] = ICM_event_df['value'].astype(int)\n",
        "ICM_genre_df['value'] = ICM_genre_df['value'].astype(int)\n",
        "ICM_subgenre_df['value'] = ICM_subgenre_df['value'].astype(int)"
      ],
      "metadata": {
        "papermill": {
          "duration": 0.068123,
          "end_time": "2021-12-10T07:42:31.863008",
          "exception": false,
          "start_time": "2021-12-10T07:42:31.794885",
          "status": "completed"
        },
        "tags": [],
        "execution": {
          "iopub.status.busy": "2022-01-05T08:43:38.463672Z",
          "iopub.execute_input": "2022-01-05T08:43:38.464009Z",
          "iopub.status.idle": "2022-01-05T08:43:38.548643Z",
          "shell.execute_reply.started": "2022-01-05T08:43:38.463969Z",
          "shell.execute_reply": "2022-01-05T08:43:38.547474Z"
        },
        "trusted": true,
        "id": "J5w_x7lTxBvV"
      },
      "execution_count": null,
      "outputs": []
    },
    {
      "cell_type": "code",
      "source": [
        "#Let's use properties of the sparse matrices\n",
        "import scipy.sparse as sps\n",
        "import numpy as np\n",
        "from numpy import linalg as LA\n",
        "URM_sparse = sps.coo_matrix((URM_df['interaction'].values,(URM_df['userID'].values,URM_df['itemID'].values)))\n",
        "URM_csr = URM_sparse.tocsr()"
      ],
      "metadata": {
        "papermill": {
          "duration": 0.215713,
          "end_time": "2021-12-10T07:42:32.087399",
          "exception": false,
          "start_time": "2021-12-10T07:42:31.871686",
          "status": "completed"
        },
        "tags": [],
        "execution": {
          "iopub.status.busy": "2022-01-05T08:43:38.549949Z",
          "iopub.execute_input": "2022-01-05T08:43:38.550228Z",
          "iopub.status.idle": "2022-01-05T08:43:38.787251Z",
          "shell.execute_reply.started": "2022-01-05T08:43:38.550196Z",
          "shell.execute_reply": "2022-01-05T08:43:38.786119Z"
        },
        "trusted": true,
        "id": "8io-lkj1xBvc"
      },
      "execution_count": null,
      "outputs": []
    },
    {
      "cell_type": "code",
      "source": [
        "from Data_manager.split_functions.split_train_validation_random_holdout import split_train_in_two_percentage_global_sample\n",
        "from Data_manager.split_functions.split_train_validation_random_holdout import split_train_in_two_percentage_user_wise\n",
        "from Evaluation.Evaluator import EvaluatorHoldout\n",
        "\n",
        "URM_train, URM_validation = split_train_in_two_percentage_global_sample(URM_csr , train_percentage = 0.80)\n",
        "#URM_train, URM_validation = split_train_in_two_percentage_user_wise(URM_sparse.tocsr(), train_percentage = 0.8, verbose = False)\n",
        "evaluator_validation = EvaluatorHoldout(URM_validation, cutoff_list=[10])"
      ],
      "metadata": {
        "papermill": {
          "duration": 8.66837,
          "end_time": "2021-12-10T07:42:40.763793",
          "exception": false,
          "start_time": "2021-12-10T07:42:32.095423",
          "status": "completed"
        },
        "tags": [],
        "execution": {
          "iopub.status.busy": "2022-01-05T08:43:38.788787Z",
          "iopub.execute_input": "2022-01-05T08:43:38.789119Z",
          "iopub.status.idle": "2022-01-05T08:43:39.366667Z",
          "shell.execute_reply.started": "2022-01-05T08:43:38.789082Z",
          "shell.execute_reply": "2022-01-05T08:43:39.365548Z"
        },
        "trusted": true,
        "id": "3QqbW6tAxBvh"
      },
      "execution_count": null,
      "outputs": []
    },
    {
      "cell_type": "code",
      "source": [
        "from Recommenders.SLIM.SLIMElasticNetRecommender_mod import SLIMElasticNetRecommender\n",
        "import random \n",
        "from Recommenders.MatrixFactorization.IALSRecommender import IALSRecommender\n",
        "from Recommenders.MatrixFactorization.PureSVDRecommender import PureSVDRecommender\n",
        "from Recommenders.KNN.ItemKNNCFRecommender import ItemKNNCFRecommender\n",
        "from Recommenders.SLIM.Cython.SLIM_BPR_Cython import SLIM_BPR_Cython\n",
        "from Recommenders.BaseRecommender import BaseRecommender\n",
        "from Recommenders.GraphBased.RP3betaRecommender import RP3betaRecommender\n",
        "from Recommenders.GraphBased.P3alphaRecommender import P3alphaRecommender"
      ],
      "metadata": {
        "id": "-DbOrGL4xBvl"
      },
      "execution_count": null,
      "outputs": []
    },
    {
      "cell_type": "code",
      "source": [
        "import pyximport\n",
        "pyximport.install()"
      ],
      "metadata": {
        "execution": {
          "iopub.status.busy": "2022-01-03T08:13:23.005688Z",
          "iopub.execute_input": "2022-01-03T08:13:23.006006Z",
          "iopub.status.idle": "2022-01-03T08:13:23.011712Z",
          "shell.execute_reply.started": "2022-01-03T08:13:23.005972Z",
          "shell.execute_reply": "2022-01-03T08:13:23.011089Z"
        },
        "trusted": true,
        "id": "eUv1ThxuxBvo"
      },
      "execution_count": null,
      "outputs": []
    },
    {
      "cell_type": "code",
      "source": [
        "#prepare the environment to run Cython code\n",
        "!python run_compile_all_cython.py"
      ],
      "metadata": {
        "execution": {
          "iopub.status.busy": "2022-01-03T08:13:24.237229Z",
          "iopub.execute_input": "2022-01-03T08:13:24.237814Z",
          "iopub.status.idle": "2022-01-03T08:16:12.152488Z",
          "shell.execute_reply.started": "2022-01-03T08:13:24.237773Z",
          "shell.execute_reply": "2022-01-03T08:16:12.151615Z"
        },
        "trusted": true,
        "id": "ASKSXUlXxBvr"
      },
      "execution_count": null,
      "outputs": []
    },
    {
      "cell_type": "code",
      "source": [
        "class DifferentLossScoresHybridRecommender(BaseRecommender):\n",
        "    \"\"\" ScoresHybridRecommender\n",
        "    Hybrid of two prediction scores R = R1/norm*alpha + R2/norm*(1-alpha) where R1 and R2 come from\n",
        "    algorithms trained on different loss functions.\n",
        "\n",
        "    \"\"\"\n",
        "\n",
        "    RECOMMENDER_NAME = \"DifferentLossScoresHybridRecommender\"\n",
        "\n",
        "\n",
        "    def __init__(self, URM_train, recommender_1, recommender_2):\n",
        "        super(DifferentLossScoresHybridRecommender, self).__init__(URM_train)\n",
        "\n",
        "        self.URM_train = sps.csr_matrix(URM_train)\n",
        "        self.recommender_1 = recommender_1\n",
        "        self.recommender_2 = recommender_2\n",
        "        \n",
        "        \n",
        "        \n",
        "    def fit(self, norm, alpha = 0.5):\n",
        "\n",
        "        self.alpha = alpha\n",
        "        self.norm = norm\n",
        "\n",
        "\n",
        "    def _compute_item_score(self, user_id_array, items_to_compute):\n",
        "        \n",
        "        if(self.recommender_1.RECOMMENDER_NAME == \"DifferentLossScoresHybridRecommender\"):\n",
        "            item_weights_1 = self.recommender_1._compute_item_score(user_id_array,items_to_compute) \n",
        "        else:    \n",
        "            item_weights_1 = self.recommender_1._compute_item_score(user_id_array)\n",
        "    \n",
        "        if(self.recommender_2.RECOMMENDER_NAME == \"DifferentLossScoresHybridRecommender\"):\n",
        "            item_weights_2 = self.recommender_2._compute_item_score(user_id_array,items_to_compute) \n",
        "        else:    \n",
        "            item_weights_2 = self.recommender_2._compute_item_score(user_id_array)\n",
        "\n",
        "        norm_item_weights_1 = LA.norm(item_weights_1, self.norm)\n",
        "        norm_item_weights_2 = LA.norm(item_weights_2, self.norm)\n",
        "        \n",
        "        \n",
        "        if norm_item_weights_1 == 0:\n",
        "            raise ValueError(\"Norm {} of item weights for recommender 1 is zero. Avoiding division by zero\".format(self.norm))\n",
        "        \n",
        "        if norm_item_weights_2 == 0:\n",
        "            raise ValueError(\"Norm {} of item weights for recommender 2 is zero. Avoiding division by zero\".format(self.norm))\n",
        "        \n",
        "        item_weights = item_weights_1 / norm_item_weights_1 * self.alpha + item_weights_2 / norm_item_weights_2 * (1-self.alpha)\n",
        "\n",
        "        return item_weights"
      ],
      "metadata": {
        "execution": {
          "iopub.status.busy": "2021-12-23T13:36:49.562778Z",
          "iopub.execute_input": "2021-12-23T13:36:49.563069Z",
          "iopub.status.idle": "2021-12-23T13:36:49.573868Z",
          "shell.execute_reply.started": "2021-12-23T13:36:49.563018Z",
          "shell.execute_reply": "2021-12-23T13:36:49.573293Z"
        },
        "trusted": true,
        "id": "aQhSJWIZxBvz"
      },
      "execution_count": null,
      "outputs": []
    },
    {
      "cell_type": "code",
      "source": [
        "class ScoresHybridRecommender(BaseRecommender):\n",
        "    \"\"\" ScoresHybridRecommender\n",
        "    Hybrid of two prediction scores R = R1*alpha + R2*(1-alpha)\n",
        "\n",
        "    \"\"\"\n",
        "\n",
        "    RECOMMENDER_NAME = \"ScoresHybridRecommender\"\n",
        "\n",
        "    def __init__(self, URM_train, recommender_1, recommender_2):\n",
        "        super(ScoresHybridRecommender, self).__init__(URM_train)\n",
        "\n",
        "        self.URM_train = sps.csr_matrix(URM_train)\n",
        "        self.recommender_1 = recommender_1\n",
        "        self.recommender_2 = recommender_2\n",
        "        \n",
        "        \n",
        "    def fit(self, alpha = 0.5):\n",
        "        self.alpha = alpha      \n",
        "\n",
        "\n",
        "    def _compute_item_score(self, user_id_array, items_to_compute):\n",
        "        \n",
        "        if(self.recommender_1.RECOMMENDER_NAME == \"DifferentLossScoresHybridRecommender\"):\n",
        "            item_weights_1 = self.recommender_1._compute_item_score(user_id_array,items_to_compute) \n",
        "        else:    \n",
        "            item_weights_1 = self.recommender_1._compute_item_score(user_id_array)\n",
        "    \n",
        "        if(self.recommender_2.RECOMMENDER_NAME == \"DifferentLossScoresHybridRecommender\"):\n",
        "            item_weights_2 = self.recommender_2._compute_item_score(user_id_array,items_to_compute) \n",
        "        else:    \n",
        "            item_weights_2 = self.recommender_2._compute_item_score(user_id_array)\n",
        "\n",
        "        item_weights = item_weights_1*self.alpha + item_weights_2*(1-self.alpha)\n",
        "\n",
        "        return item_weights"
      ],
      "metadata": {
        "id": "UiXUAZqdxBv5"
      },
      "execution_count": null,
      "outputs": []
    },
    {
      "cell_type": "code",
      "source": [
        "slim_BPR = SLIM_BPR_Cython(URM_sparse)\n",
        "slim_BPR.fit(topK=150, random_seed=1234, lambda_i=0.0055, lambda_j=0.0055, epochs=350, learning_rate=0.019927955775670296)"
      ],
      "metadata": {
        "id": "FbdWAa1wxBv-"
      },
      "execution_count": null,
      "outputs": []
    },
    {
      "cell_type": "code",
      "source": [
        "iALS = IALSRecommender(URM_sparse)\n",
        "iALS.fit(epochs = 157, num_factors = 54, alpha = 0.6754923563037951, reg = 0.0020435763517982174)"
      ],
      "metadata": {
        "execution": {
          "iopub.status.busy": "2021-12-23T16:02:40.797064Z",
          "iopub.execute_input": "2021-12-23T16:02:40.797328Z",
          "iopub.status.idle": "2021-12-23T16:35:15.827268Z",
          "shell.execute_reply.started": "2021-12-23T16:02:40.797301Z",
          "shell.execute_reply": "2021-12-23T16:35:15.826442Z"
        },
        "id": "LN40t52LxBwB"
      },
      "execution_count": null,
      "outputs": []
    },
    {
      "cell_type": "code",
      "source": [
        "RP3beta = RP3betaRecommender(URM_sparse)\n",
        "RP3beta.fit(topK=120, alpha =  0.9308113538224418, beta = 0.32)"
      ],
      "metadata": {
        "id": "c0bSygRtxBwD"
      },
      "execution_count": null,
      "outputs": []
    },
    {
      "cell_type": "code",
      "source": [
        "itemKNN = ItemKNNCFRecommender(URM_sparse)\n",
        "itemKNN.fit(topK=250, shrink=12)"
      ],
      "metadata": {
        "id": "nAidILjNxBwF"
      },
      "execution_count": null,
      "outputs": []
    },
    {
      "cell_type": "code",
      "source": [
        "SLIM_tot = SLIMElasticNetRecommender(URM_sparse)\n",
        "SLIM_tot.fit(l1_ratio = 0.0006874637222349307, alpha = 0.05475509828499467, positive_only = True, topK = 2822)"
      ],
      "metadata": {
        "execution": {
          "iopub.status.busy": "2021-12-23T17:03:23.493638Z",
          "iopub.execute_input": "2021-12-23T17:03:23.494371Z",
          "iopub.status.idle": "2021-12-23T18:24:07.272976Z",
          "shell.execute_reply.started": "2021-12-23T17:03:23.494326Z",
          "shell.execute_reply": "2021-12-23T18:24:07.272189Z"
        },
        "id": "daMhneRWxBwH"
      },
      "execution_count": null,
      "outputs": []
    },
    {
      "cell_type": "code",
      "source": [
        "cotrain1 = DifferentLossScoresHybridRecommender(URM_sparse, itemKNN, slim_BPR)\n",
        "cotrain1.fit(alpha = 0.6144606244441579, norm = np.inf)\n",
        "\n",
        "cotrain2 = DifferentLossScoresHybridRecommender(URM_sparse, iALS, RP3beta)\n",
        "cotrain2.fit(alpha = 0.662714121265055, norm = np.inf)"
      ],
      "metadata": {
        "id": "MU5vnwmHxBwJ"
      },
      "execution_count": null,
      "outputs": []
    },
    {
      "cell_type": "code",
      "source": [
        "hybrid = DifferentLossScoresHybridRecommender(URM_sparse, cotrain1, cotrain2)\n",
        "hybrid.fit(alpha = 0.7, norm = 2)"
      ],
      "metadata": {
        "id": "6wUqCp-axBwO"
      },
      "execution_count": null,
      "outputs": []
    },
    {
      "cell_type": "code",
      "source": [
        "final_hybrid = DifferentLossScoresHybridRecommender(URM_sparse, hybrid, SLIM_tot)\n",
        "final_hybrid.fit(alpha = 0.35, norm = np.inf)"
      ],
      "metadata": {
        "id": "GHnnuNa9xBwQ"
      },
      "execution_count": null,
      "outputs": []
    }
  ]
}